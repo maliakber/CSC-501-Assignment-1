{
 "cells": [
  {
   "cell_type": "code",
   "execution_count": 1,
   "metadata": {},
   "outputs": [],
   "source": [
    "import geopandas as gpd\n",
    "import pandas as pd\n",
    "import numpy as np\n",
    "import re\n",
    "import matplotlib.pyplot as plt\n",
    "import xml.etree.ElementTree as et \n",
    "from geopy.geocoders import Nominatim\n",
    "import pycountry\n",
    "from countryinfo import CountryInfo\n",
    "from difflib import SequenceMatcher\n",
    "pd.options.mode.chained_assignment = None"
   ]
  },
  {
   "cell_type": "code",
   "execution_count": 2,
   "metadata": {},
   "outputs": [],
   "source": [
    "def load_users():\n",
    "    xtree = et.parse(\"./data/datascience_stackexchange_com/Users.xml\")\n",
    "    xroot = xtree.getroot() \n",
    "    df_cols = [\"Id\", \"Reputation\", \"CreationDate\", \"Location\",\"Views\", \"AccountId\"]\n",
    "    rows = []\n",
    "    for x in xroot:\n",
    "        uId = x.attrib['Id']\n",
    "        if 'AccountId' in x.attrib:\n",
    "            uAccountId = x.attrib['AccountId']\n",
    "        else:\n",
    "            uAccountId = None\n",
    "        if 'Location' in x.attrib:\n",
    "            uLocation = x.attrib['Location']\n",
    "        else:\n",
    "            uLocation = None\n",
    "        uReputation = x.attrib['Reputation']\n",
    "        uCreationDate = x.attrib['CreationDate']\n",
    "        uViews = x.attrib['Views']\n",
    "        rows.append({\"Id\": uId, \"Reputation\": uReputation, \n",
    "                     \"CreationDate\": uCreationDate, \"Location\": uLocation,\"Views\":uViews,\"AccountId\":uAccountId})\n",
    "    user_df = pd.DataFrame(rows, columns = df_cols)\n",
    "    return user_df\n",
    "\n",
    "def retired_assign_country(df):\n",
    "    countries = dict()\n",
    "    for index, addr in df.iterrows():\n",
    "        item = addr['Location'].split(',')[-1]\n",
    "        try:\n",
    "            ct = (pycountry.countries.search_fuzzy(item)[0]).name\n",
    "            countries[addr['Id']] = ct\n",
    "        except LookupError:\n",
    "            continue\n",
    "\n",
    "\n",
    "def load_posts():\n",
    "    xtree = et.parse(\"./data/datascience_stackexchange_com/Posts.xml\")\n",
    "    xroot = xtree.getroot() \n",
    "    df_cols = [\"Id\",\"PostTypeId\", \"ParentID\",\"AcceptedAnswerId\",\"CreationDate\",\"Score\",\"ViewCount\",\"OwnerUserId\",\"Tags\"]\n",
    "    rows = []\n",
    "    for x in xroot:\n",
    "        row = dict()\n",
    "        for col in df_cols:\n",
    "            if col in x.attrib:\n",
    "                row[col] = x.attrib[col]\n",
    "            else:\n",
    "                row[col] = None\n",
    "        rows.append(row)\n",
    "    user_df = pd.DataFrame(rows, columns = df_cols)\n",
    "    return user_df\n",
    "\n",
    "def load_tags():\n",
    "    tag_rows = []\n",
    "    cols = [\"Id\",\"Tag\"]\n",
    "    for index, row in data_posts.iterrows():\n",
    "        pid = row['Id']\n",
    "        tag = row['Tags']\n",
    "        if tag is not None:\n",
    "            tags = re.split('><|>|<',tag) \n",
    "            for t in tags:\n",
    "                if len(t.strip())>0:\n",
    "                    tag_rows.append({\"Id\":pid,\"Tag\":t})\n",
    "        else:\n",
    "            tag_rows.append({\"Id\":pid,\"Tag\":None})\n",
    "    data_tags = pd.DataFrame(tag_rows, columns = cols)\n",
    "    return data_tags\n",
    "\n",
    "##########Retired Code\n",
    "#for index, row in df_users_full.iterrows():\n",
    "#    item = (row['Location_x'].split(',')[-1]).strip()\n",
    "#    if (item=='ny'):\n",
    "#        df_users_full.at[index,'Location_y'] = 'United States'\n",
    "#df_countries = df_users_full[['Id','Location_y']]\n",
    "#df_countries.to_csv (r'./country_list.csv', index = None)   \n",
    "#df_users_full.fillna('Unknown', inplace=True)"
   ]
  },
  {
   "cell_type": "code",
   "execution_count": 3,
   "metadata": {},
   "outputs": [],
   "source": [
    "shapefile = './data/ne_110m_admin_0_countries/ne_110m_admin_0_countries.shp'\n",
    "worldmap = gpd.read_file(shapefile)\n",
    "worldmap = worldmap[['ADMIN','ADM0_A3','geometry']]\n",
    "worldmap = worldmap.drop(worldmap.index[159])"
   ]
  },
  {
   "cell_type": "code",
   "execution_count": 4,
   "metadata": {},
   "outputs": [],
   "source": [
    "user_countries = pd.read_csv('./data/country_list_4.csv')"
   ]
  },
  {
   "cell_type": "code",
   "execution_count": 5,
   "metadata": {},
   "outputs": [
    {
     "data": {
      "text/plain": [
       "(176, 3)"
      ]
     },
     "execution_count": 5,
     "metadata": {},
     "output_type": "execute_result"
    }
   ],
   "source": [
    "worldmap.shape"
   ]
  },
  {
   "cell_type": "code",
   "execution_count": 6,
   "metadata": {},
   "outputs": [
    {
     "data": {
      "text/html": [
       "<div>\n",
       "<style scoped>\n",
       "    .dataframe tbody tr th:only-of-type {\n",
       "        vertical-align: middle;\n",
       "    }\n",
       "\n",
       "    .dataframe tbody tr th {\n",
       "        vertical-align: top;\n",
       "    }\n",
       "\n",
       "    .dataframe thead th {\n",
       "        text-align: right;\n",
       "    }\n",
       "</style>\n",
       "<table border=\"1\" class=\"dataframe\">\n",
       "  <thead>\n",
       "    <tr style=\"text-align: right;\">\n",
       "      <th></th>\n",
       "      <th>ADMIN</th>\n",
       "      <th>ADM0_A3</th>\n",
       "      <th>geometry</th>\n",
       "    </tr>\n",
       "  </thead>\n",
       "  <tbody>\n",
       "    <tr>\n",
       "      <th>0</th>\n",
       "      <td>Fiji</td>\n",
       "      <td>FJI</td>\n",
       "      <td>MULTIPOLYGON (((180.00000 -16.06713, 180.00000...</td>\n",
       "    </tr>\n",
       "    <tr>\n",
       "      <th>1</th>\n",
       "      <td>United Republic of Tanzania</td>\n",
       "      <td>TZA</td>\n",
       "      <td>POLYGON ((33.90371 -0.95000, 34.07262 -1.05982...</td>\n",
       "    </tr>\n",
       "    <tr>\n",
       "      <th>2</th>\n",
       "      <td>Western Sahara</td>\n",
       "      <td>SAH</td>\n",
       "      <td>POLYGON ((-8.66559 27.65643, -8.66512 27.58948...</td>\n",
       "    </tr>\n",
       "    <tr>\n",
       "      <th>3</th>\n",
       "      <td>Canada</td>\n",
       "      <td>CAN</td>\n",
       "      <td>MULTIPOLYGON (((-122.84000 49.00000, -122.9742...</td>\n",
       "    </tr>\n",
       "    <tr>\n",
       "      <th>4</th>\n",
       "      <td>United States of America</td>\n",
       "      <td>USA</td>\n",
       "      <td>MULTIPOLYGON (((-122.84000 49.00000, -120.0000...</td>\n",
       "    </tr>\n",
       "  </tbody>\n",
       "</table>\n",
       "</div>"
      ],
      "text/plain": [
       "                         ADMIN ADM0_A3  \\\n",
       "0                         Fiji     FJI   \n",
       "1  United Republic of Tanzania     TZA   \n",
       "2               Western Sahara     SAH   \n",
       "3                       Canada     CAN   \n",
       "4     United States of America     USA   \n",
       "\n",
       "                                            geometry  \n",
       "0  MULTIPOLYGON (((180.00000 -16.06713, 180.00000...  \n",
       "1  POLYGON ((33.90371 -0.95000, 34.07262 -1.05982...  \n",
       "2  POLYGON ((-8.66559 27.65643, -8.66512 27.58948...  \n",
       "3  MULTIPOLYGON (((-122.84000 49.00000, -122.9742...  \n",
       "4  MULTIPOLYGON (((-122.84000 49.00000, -120.0000...  "
      ]
     },
     "execution_count": 6,
     "metadata": {},
     "output_type": "execute_result"
    }
   ],
   "source": [
    "worldmap.head()"
   ]
  },
  {
   "cell_type": "code",
   "execution_count": 7,
   "metadata": {},
   "outputs": [
    {
     "data": {
      "text/html": [
       "<div>\n",
       "<style scoped>\n",
       "    .dataframe tbody tr th:only-of-type {\n",
       "        vertical-align: middle;\n",
       "    }\n",
       "\n",
       "    .dataframe tbody tr th {\n",
       "        vertical-align: top;\n",
       "    }\n",
       "\n",
       "    .dataframe thead th {\n",
       "        text-align: right;\n",
       "    }\n",
       "</style>\n",
       "<table border=\"1\" class=\"dataframe\">\n",
       "  <thead>\n",
       "    <tr style=\"text-align: right;\">\n",
       "      <th></th>\n",
       "      <th>country</th>\n",
       "      <th>city</th>\n",
       "      <th>lat</th>\n",
       "      <th>lng</th>\n",
       "      <th>geometry</th>\n",
       "    </tr>\n",
       "  </thead>\n",
       "  <tbody>\n",
       "    <tr>\n",
       "      <th>0</th>\n",
       "      <td>Kosovo</td>\n",
       "      <td>Malishevë</td>\n",
       "      <td>42.4822</td>\n",
       "      <td>20.7458</td>\n",
       "      <td>POINT (20.74580 42.48220)</td>\n",
       "    </tr>\n",
       "    <tr>\n",
       "      <th>1</th>\n",
       "      <td>Kosovo</td>\n",
       "      <td>Prizren</td>\n",
       "      <td>42.2139</td>\n",
       "      <td>20.7397</td>\n",
       "      <td>POINT (20.73970 42.21390)</td>\n",
       "    </tr>\n",
       "    <tr>\n",
       "      <th>2</th>\n",
       "      <td>Kosovo</td>\n",
       "      <td>Zubin Potok</td>\n",
       "      <td>42.9144</td>\n",
       "      <td>20.6897</td>\n",
       "      <td>POINT (20.68970 42.91440)</td>\n",
       "    </tr>\n",
       "    <tr>\n",
       "      <th>3</th>\n",
       "      <td>Kosovo</td>\n",
       "      <td>Kamenicë</td>\n",
       "      <td>42.5781</td>\n",
       "      <td>21.5803</td>\n",
       "      <td>POINT (21.58030 42.57810)</td>\n",
       "    </tr>\n",
       "    <tr>\n",
       "      <th>4</th>\n",
       "      <td>Kosovo</td>\n",
       "      <td>Viti</td>\n",
       "      <td>42.3214</td>\n",
       "      <td>21.3583</td>\n",
       "      <td>POINT (21.35830 42.32140)</td>\n",
       "    </tr>\n",
       "  </tbody>\n",
       "</table>\n",
       "</div>"
      ],
      "text/plain": [
       "  country         city      lat      lng                   geometry\n",
       "0  Kosovo    Malishevë  42.4822  20.7458  POINT (20.74580 42.48220)\n",
       "1  Kosovo      Prizren  42.2139  20.7397  POINT (20.73970 42.21390)\n",
       "2  Kosovo  Zubin Potok  42.9144  20.6897  POINT (20.68970 42.91440)\n",
       "3  Kosovo     Kamenicë  42.5781  21.5803  POINT (21.58030 42.57810)\n",
       "4  Kosovo         Viti  42.3214  21.3583  POINT (21.35830 42.32140)"
      ]
     },
     "execution_count": 7,
     "metadata": {},
     "output_type": "execute_result"
    }
   ],
   "source": [
    "cities = pd.read_csv('./data/worldcities.csv')\n",
    "cities = gpd.GeoDataFrame(cities[['country','city','lat','lng']],geometry=gpd.points_from_xy(cities.lng, cities.lat))\n",
    "cities.head()"
   ]
  },
  {
   "cell_type": "code",
   "execution_count": 8,
   "metadata": {},
   "outputs": [
    {
     "name": "stdout",
     "output_type": "stream",
     "text": [
      "(66951, 6)\n"
     ]
    },
    {
     "data": {
      "text/html": [
       "<div>\n",
       "<style scoped>\n",
       "    .dataframe tbody tr th:only-of-type {\n",
       "        vertical-align: middle;\n",
       "    }\n",
       "\n",
       "    .dataframe tbody tr th {\n",
       "        vertical-align: top;\n",
       "    }\n",
       "\n",
       "    .dataframe thead th {\n",
       "        text-align: right;\n",
       "    }\n",
       "</style>\n",
       "<table border=\"1\" class=\"dataframe\">\n",
       "  <thead>\n",
       "    <tr style=\"text-align: right;\">\n",
       "      <th></th>\n",
       "      <th>Id</th>\n",
       "      <th>Reputation</th>\n",
       "      <th>CreationDate</th>\n",
       "      <th>Location</th>\n",
       "      <th>Views</th>\n",
       "      <th>AccountId</th>\n",
       "    </tr>\n",
       "  </thead>\n",
       "  <tbody>\n",
       "    <tr>\n",
       "      <th>0</th>\n",
       "      <td>-1</td>\n",
       "      <td>1</td>\n",
       "      <td>2014-05-13T21:29:22.820</td>\n",
       "      <td>on the server farm</td>\n",
       "      <td>0</td>\n",
       "      <td>-1</td>\n",
       "    </tr>\n",
       "    <tr>\n",
       "      <th>1</th>\n",
       "      <td>1</td>\n",
       "      <td>101</td>\n",
       "      <td>2014-05-13T22:58:54.810</td>\n",
       "      <td>New York, NY</td>\n",
       "      <td>453</td>\n",
       "      <td>37099</td>\n",
       "    </tr>\n",
       "    <tr>\n",
       "      <th>2</th>\n",
       "      <td>2</td>\n",
       "      <td>101</td>\n",
       "      <td>2014-05-13T22:59:19.787</td>\n",
       "      <td>Corvallis, OR</td>\n",
       "      <td>9</td>\n",
       "      <td>2</td>\n",
       "    </tr>\n",
       "    <tr>\n",
       "      <th>3</th>\n",
       "      <td>3</td>\n",
       "      <td>101</td>\n",
       "      <td>2014-05-13T23:15:34.483</td>\n",
       "      <td>None</td>\n",
       "      <td>7</td>\n",
       "      <td>3046327</td>\n",
       "    </tr>\n",
       "    <tr>\n",
       "      <th>4</th>\n",
       "      <td>4</td>\n",
       "      <td>101</td>\n",
       "      <td>2014-05-13T23:16:09.937</td>\n",
       "      <td>Republic of Texas</td>\n",
       "      <td>9</td>\n",
       "      <td>2365</td>\n",
       "    </tr>\n",
       "  </tbody>\n",
       "</table>\n",
       "</div>"
      ],
      "text/plain": [
       "   Id Reputation             CreationDate            Location Views AccountId\n",
       "0  -1          1  2014-05-13T21:29:22.820  on the server farm     0        -1\n",
       "1   1        101  2014-05-13T22:58:54.810        New York, NY   453     37099\n",
       "2   2        101  2014-05-13T22:59:19.787       Corvallis, OR     9         2\n",
       "3   3        101  2014-05-13T23:15:34.483                None     7   3046327\n",
       "4   4        101  2014-05-13T23:16:09.937   Republic of Texas     9      2365"
      ]
     },
     "execution_count": 8,
     "metadata": {},
     "output_type": "execute_result"
    }
   ],
   "source": [
    "df_users = load_users()\n",
    "print(df_users.shape)\n",
    "df_users.head()"
   ]
  },
  {
   "cell_type": "code",
   "execution_count": 9,
   "metadata": {},
   "outputs": [
    {
     "data": {
      "text/html": [
       "<div>\n",
       "<style scoped>\n",
       "    .dataframe tbody tr th:only-of-type {\n",
       "        vertical-align: middle;\n",
       "    }\n",
       "\n",
       "    .dataframe tbody tr th {\n",
       "        vertical-align: top;\n",
       "    }\n",
       "\n",
       "    .dataframe thead th {\n",
       "        text-align: right;\n",
       "    }\n",
       "</style>\n",
       "<table border=\"1\" class=\"dataframe\">\n",
       "  <thead>\n",
       "    <tr style=\"text-align: right;\">\n",
       "      <th></th>\n",
       "      <th>Id</th>\n",
       "      <th>Reputation</th>\n",
       "      <th>CreationDate</th>\n",
       "      <th>Location</th>\n",
       "      <th>Views</th>\n",
       "      <th>AccountId</th>\n",
       "    </tr>\n",
       "  </thead>\n",
       "  <tbody>\n",
       "    <tr>\n",
       "      <th>0</th>\n",
       "      <td>-1</td>\n",
       "      <td>1</td>\n",
       "      <td>2014-05-13 21:29:22.820</td>\n",
       "      <td>on the server farm</td>\n",
       "      <td>0</td>\n",
       "      <td>-1</td>\n",
       "    </tr>\n",
       "    <tr>\n",
       "      <th>1</th>\n",
       "      <td>1</td>\n",
       "      <td>101</td>\n",
       "      <td>2014-05-13 22:58:54.810</td>\n",
       "      <td>New York, NY</td>\n",
       "      <td>453</td>\n",
       "      <td>37099</td>\n",
       "    </tr>\n",
       "    <tr>\n",
       "      <th>2</th>\n",
       "      <td>2</td>\n",
       "      <td>101</td>\n",
       "      <td>2014-05-13 22:59:19.787</td>\n",
       "      <td>Corvallis, OR</td>\n",
       "      <td>9</td>\n",
       "      <td>2</td>\n",
       "    </tr>\n",
       "    <tr>\n",
       "      <th>3</th>\n",
       "      <td>3</td>\n",
       "      <td>101</td>\n",
       "      <td>2014-05-13 23:15:34.483</td>\n",
       "      <td>None</td>\n",
       "      <td>7</td>\n",
       "      <td>3046327</td>\n",
       "    </tr>\n",
       "    <tr>\n",
       "      <th>4</th>\n",
       "      <td>4</td>\n",
       "      <td>101</td>\n",
       "      <td>2014-05-13 23:16:09.937</td>\n",
       "      <td>Republic of Texas</td>\n",
       "      <td>9</td>\n",
       "      <td>2365</td>\n",
       "    </tr>\n",
       "  </tbody>\n",
       "</table>\n",
       "</div>"
      ],
      "text/plain": [
       "   Id Reputation            CreationDate            Location Views AccountId\n",
       "0  -1          1 2014-05-13 21:29:22.820  on the server farm     0        -1\n",
       "1   1        101 2014-05-13 22:58:54.810        New York, NY   453     37099\n",
       "2   2        101 2014-05-13 22:59:19.787       Corvallis, OR     9         2\n",
       "3   3        101 2014-05-13 23:15:34.483                None     7   3046327\n",
       "4   4        101 2014-05-13 23:16:09.937   Republic of Texas     9      2365"
      ]
     },
     "execution_count": 9,
     "metadata": {},
     "output_type": "execute_result"
    }
   ],
   "source": [
    "df_users['Id'] = pd.to_numeric(df_users['Id'])\n",
    "df_users['CreationDate'] = pd.to_datetime(df_users['CreationDate'], format=\"%Y-%m-%d %H:%M:%S\")\n",
    "df_users.head()"
   ]
  },
  {
   "cell_type": "code",
   "execution_count": 10,
   "metadata": {},
   "outputs": [
    {
     "data": {
      "text/plain": [
       "Id              False\n",
       "Reputation      False\n",
       "CreationDate    False\n",
       "Location         True\n",
       "Views           False\n",
       "AccountId        True\n",
       "dtype: bool"
      ]
     },
     "execution_count": 10,
     "metadata": {},
     "output_type": "execute_result"
    }
   ],
   "source": [
    "df_users.isnull().any()"
   ]
  },
  {
   "cell_type": "code",
   "execution_count": 11,
   "metadata": {},
   "outputs": [
    {
     "data": {
      "text/plain": [
       "66946"
      ]
     },
     "execution_count": 11,
     "metadata": {},
     "output_type": "execute_result"
    }
   ],
   "source": [
    "bool_series = pd.notnull(df_users['AccountId']) \n",
    "df_users = df_users[bool_series]\n",
    "len(df_users)"
   ]
  },
  {
   "cell_type": "code",
   "execution_count": 12,
   "metadata": {},
   "outputs": [],
   "source": [
    "bool_series = pd.notnull(df_users['Location']) \n",
    "df_users_loc = df_users[bool_series]\n",
    "df_users_loc = df_users_loc[df_users_loc.Id>=1]"
   ]
  },
  {
   "cell_type": "code",
   "execution_count": 13,
   "metadata": {},
   "outputs": [
    {
     "name": "stdout",
     "output_type": "stream",
     "text": [
      "(29306, 6)\n"
     ]
    },
    {
     "data": {
      "text/html": [
       "<div>\n",
       "<style scoped>\n",
       "    .dataframe tbody tr th:only-of-type {\n",
       "        vertical-align: middle;\n",
       "    }\n",
       "\n",
       "    .dataframe tbody tr th {\n",
       "        vertical-align: top;\n",
       "    }\n",
       "\n",
       "    .dataframe thead th {\n",
       "        text-align: right;\n",
       "    }\n",
       "</style>\n",
       "<table border=\"1\" class=\"dataframe\">\n",
       "  <thead>\n",
       "    <tr style=\"text-align: right;\">\n",
       "      <th></th>\n",
       "      <th>Id</th>\n",
       "      <th>Reputation</th>\n",
       "      <th>CreationDate</th>\n",
       "      <th>Location</th>\n",
       "      <th>Views</th>\n",
       "      <th>AccountId</th>\n",
       "    </tr>\n",
       "  </thead>\n",
       "  <tbody>\n",
       "    <tr>\n",
       "      <th>1</th>\n",
       "      <td>1</td>\n",
       "      <td>101</td>\n",
       "      <td>2014-05-13 22:58:54.810</td>\n",
       "      <td>New York, NY</td>\n",
       "      <td>453</td>\n",
       "      <td>37099</td>\n",
       "    </tr>\n",
       "    <tr>\n",
       "      <th>2</th>\n",
       "      <td>2</td>\n",
       "      <td>101</td>\n",
       "      <td>2014-05-13 22:59:19.787</td>\n",
       "      <td>Corvallis, OR</td>\n",
       "      <td>9</td>\n",
       "      <td>2</td>\n",
       "    </tr>\n",
       "    <tr>\n",
       "      <th>4</th>\n",
       "      <td>4</td>\n",
       "      <td>101</td>\n",
       "      <td>2014-05-13 23:16:09.937</td>\n",
       "      <td>Republic of Texas</td>\n",
       "      <td>9</td>\n",
       "      <td>2365</td>\n",
       "    </tr>\n",
       "    <tr>\n",
       "      <th>5</th>\n",
       "      <td>5</td>\n",
       "      <td>150</td>\n",
       "      <td>2014-05-13 23:16:11.013</td>\n",
       "      <td>Texas, US</td>\n",
       "      <td>27</td>\n",
       "      <td>1266491</td>\n",
       "    </tr>\n",
       "    <tr>\n",
       "      <th>6</th>\n",
       "      <td>6</td>\n",
       "      <td>101</td>\n",
       "      <td>2014-05-13 23:16:26.517</td>\n",
       "      <td>Dietzenbach, Deutschland</td>\n",
       "      <td>10</td>\n",
       "      <td>935589</td>\n",
       "    </tr>\n",
       "  </tbody>\n",
       "</table>\n",
       "</div>"
      ],
      "text/plain": [
       "   Id Reputation            CreationDate                  Location Views  \\\n",
       "1   1        101 2014-05-13 22:58:54.810              New York, NY   453   \n",
       "2   2        101 2014-05-13 22:59:19.787             Corvallis, OR     9   \n",
       "4   4        101 2014-05-13 23:16:09.937         Republic of Texas     9   \n",
       "5   5        150 2014-05-13 23:16:11.013                 Texas, US    27   \n",
       "6   6        101 2014-05-13 23:16:26.517  Dietzenbach, Deutschland    10   \n",
       "\n",
       "  AccountId  \n",
       "1     37099  \n",
       "2         2  \n",
       "4      2365  \n",
       "5   1266491  \n",
       "6    935589  "
      ]
     },
     "execution_count": 13,
     "metadata": {},
     "output_type": "execute_result"
    }
   ],
   "source": [
    "print(df_users_loc.shape)\n",
    "df_users_loc.head()"
   ]
  },
  {
   "cell_type": "code",
   "execution_count": 14,
   "metadata": {},
   "outputs": [],
   "source": [
    "bool_series = pd.isnull(df_users['Location']) \n",
    "df_users_nolocation = df_users[bool_series]"
   ]
  },
  {
   "cell_type": "code",
   "execution_count": 15,
   "metadata": {},
   "outputs": [
    {
     "name": "stdout",
     "output_type": "stream",
     "text": [
      "(37639, 6)\n"
     ]
    },
    {
     "data": {
      "text/html": [
       "<div>\n",
       "<style scoped>\n",
       "    .dataframe tbody tr th:only-of-type {\n",
       "        vertical-align: middle;\n",
       "    }\n",
       "\n",
       "    .dataframe tbody tr th {\n",
       "        vertical-align: top;\n",
       "    }\n",
       "\n",
       "    .dataframe thead th {\n",
       "        text-align: right;\n",
       "    }\n",
       "</style>\n",
       "<table border=\"1\" class=\"dataframe\">\n",
       "  <thead>\n",
       "    <tr style=\"text-align: right;\">\n",
       "      <th></th>\n",
       "      <th>Id</th>\n",
       "      <th>Reputation</th>\n",
       "      <th>CreationDate</th>\n",
       "      <th>Location</th>\n",
       "      <th>Views</th>\n",
       "      <th>AccountId</th>\n",
       "    </tr>\n",
       "  </thead>\n",
       "  <tbody>\n",
       "    <tr>\n",
       "      <th>3</th>\n",
       "      <td>3</td>\n",
       "      <td>101</td>\n",
       "      <td>2014-05-13 23:15:34.483</td>\n",
       "      <td>None</td>\n",
       "      <td>7</td>\n",
       "      <td>3046327</td>\n",
       "    </tr>\n",
       "    <tr>\n",
       "      <th>7</th>\n",
       "      <td>7</td>\n",
       "      <td>101</td>\n",
       "      <td>2014-05-13 23:17:05.443</td>\n",
       "      <td>None</td>\n",
       "      <td>4</td>\n",
       "      <td>1703573</td>\n",
       "    </tr>\n",
       "    <tr>\n",
       "      <th>13</th>\n",
       "      <td>14</td>\n",
       "      <td>2322</td>\n",
       "      <td>2014-05-13 23:24:41.720</td>\n",
       "      <td>None</td>\n",
       "      <td>102</td>\n",
       "      <td>92888</td>\n",
       "    </tr>\n",
       "    <tr>\n",
       "      <th>15</th>\n",
       "      <td>16</td>\n",
       "      <td>1</td>\n",
       "      <td>2014-05-13 23:25:24.423</td>\n",
       "      <td>None</td>\n",
       "      <td>1</td>\n",
       "      <td>851</td>\n",
       "    </tr>\n",
       "    <tr>\n",
       "      <th>17</th>\n",
       "      <td>18</td>\n",
       "      <td>101</td>\n",
       "      <td>2014-05-13 23:27:57.393</td>\n",
       "      <td>None</td>\n",
       "      <td>1</td>\n",
       "      <td>164368</td>\n",
       "    </tr>\n",
       "  </tbody>\n",
       "</table>\n",
       "</div>"
      ],
      "text/plain": [
       "    Id Reputation            CreationDate Location Views AccountId\n",
       "3    3        101 2014-05-13 23:15:34.483     None     7   3046327\n",
       "7    7        101 2014-05-13 23:17:05.443     None     4   1703573\n",
       "13  14       2322 2014-05-13 23:24:41.720     None   102     92888\n",
       "15  16          1 2014-05-13 23:25:24.423     None     1       851\n",
       "17  18        101 2014-05-13 23:27:57.393     None     1    164368"
      ]
     },
     "execution_count": 15,
     "metadata": {},
     "output_type": "execute_result"
    }
   ],
   "source": [
    "print(df_users_nolocation.shape)\n",
    "df_users_nolocation.head()"
   ]
  },
  {
   "cell_type": "code",
   "execution_count": 16,
   "metadata": {},
   "outputs": [
    {
     "data": {
      "text/plain": [
       "56.2229259403101"
      ]
     },
     "execution_count": 16,
     "metadata": {},
     "output_type": "execute_result"
    }
   ],
   "source": [
    "len(df_users_nolocation)/len(df_users)*100"
   ]
  },
  {
   "cell_type": "code",
   "execution_count": 17,
   "metadata": {},
   "outputs": [
    {
     "data": {
      "text/plain": [
       "<matplotlib.legend.Legend at 0x11702fe10>"
      ]
     },
     "execution_count": 17,
     "metadata": {},
     "output_type": "execute_result"
    },
    {
     "data": {
      "image/png": "[encoded data removed]",
      "text/plain": [
       "<Figure size 432x288 with 1 Axes>"
      ]
     },
     "metadata": {
      "needs_background": "light"
     },
     "output_type": "display_data"
    }
   ],
   "source": [
    "plt.hist([df_users_nolocation.CreationDate.dt.year,df_users_loc.CreationDate.dt.year], bins=6, label=[\"No Location\",\"Location\"])\n",
    "plt.legend()"
   ]
  },
  {
   "cell_type": "code",
   "execution_count": 18,
   "metadata": {},
   "outputs": [
    {
     "data": {
      "text/html": [
       "<div>\n",
       "<style scoped>\n",
       "    .dataframe tbody tr th:only-of-type {\n",
       "        vertical-align: middle;\n",
       "    }\n",
       "\n",
       "    .dataframe tbody tr th {\n",
       "        vertical-align: top;\n",
       "    }\n",
       "\n",
       "    .dataframe thead th {\n",
       "        text-align: right;\n",
       "    }\n",
       "</style>\n",
       "<table border=\"1\" class=\"dataframe\">\n",
       "  <thead>\n",
       "    <tr style=\"text-align: right;\">\n",
       "      <th></th>\n",
       "      <th>Id</th>\n",
       "      <th>Reputation</th>\n",
       "      <th>CreationDate</th>\n",
       "      <th>Location</th>\n",
       "      <th>Views</th>\n",
       "      <th>AccountId</th>\n",
       "    </tr>\n",
       "  </thead>\n",
       "  <tbody>\n",
       "    <tr>\n",
       "      <th>1</th>\n",
       "      <td>1</td>\n",
       "      <td>101</td>\n",
       "      <td>2014-05-13 22:58:54.810</td>\n",
       "      <td>New York, NY</td>\n",
       "      <td>453</td>\n",
       "      <td>37099</td>\n",
       "    </tr>\n",
       "    <tr>\n",
       "      <th>2</th>\n",
       "      <td>2</td>\n",
       "      <td>101</td>\n",
       "      <td>2014-05-13 22:59:19.787</td>\n",
       "      <td>Corvallis, OR</td>\n",
       "      <td>9</td>\n",
       "      <td>2</td>\n",
       "    </tr>\n",
       "    <tr>\n",
       "      <th>4</th>\n",
       "      <td>4</td>\n",
       "      <td>101</td>\n",
       "      <td>2014-05-13 23:16:09.937</td>\n",
       "      <td>Republic of Texas</td>\n",
       "      <td>9</td>\n",
       "      <td>2365</td>\n",
       "    </tr>\n",
       "    <tr>\n",
       "      <th>5</th>\n",
       "      <td>5</td>\n",
       "      <td>150</td>\n",
       "      <td>2014-05-13 23:16:11.013</td>\n",
       "      <td>Texas, US</td>\n",
       "      <td>27</td>\n",
       "      <td>1266491</td>\n",
       "    </tr>\n",
       "    <tr>\n",
       "      <th>6</th>\n",
       "      <td>6</td>\n",
       "      <td>101</td>\n",
       "      <td>2014-05-13 23:16:26.517</td>\n",
       "      <td>Dietzenbach, Deutschland</td>\n",
       "      <td>10</td>\n",
       "      <td>935589</td>\n",
       "    </tr>\n",
       "  </tbody>\n",
       "</table>\n",
       "</div>"
      ],
      "text/plain": [
       "   Id Reputation            CreationDate                  Location Views  \\\n",
       "1   1        101 2014-05-13 22:58:54.810              New York, NY   453   \n",
       "2   2        101 2014-05-13 22:59:19.787             Corvallis, OR     9   \n",
       "4   4        101 2014-05-13 23:16:09.937         Republic of Texas     9   \n",
       "5   5        150 2014-05-13 23:16:11.013                 Texas, US    27   \n",
       "6   6        101 2014-05-13 23:16:26.517  Dietzenbach, Deutschland    10   \n",
       "\n",
       "  AccountId  \n",
       "1     37099  \n",
       "2         2  \n",
       "4      2365  \n",
       "5   1266491  \n",
       "6    935589  "
      ]
     },
     "execution_count": 18,
     "metadata": {},
     "output_type": "execute_result"
    }
   ],
   "source": [
    "df_users_loc.head()"
   ]
  },
  {
   "cell_type": "code",
   "execution_count": 19,
   "metadata": {},
   "outputs": [
    {
     "data": {
      "text/html": [
       "<div>\n",
       "<style scoped>\n",
       "    .dataframe tbody tr th:only-of-type {\n",
       "        vertical-align: middle;\n",
       "    }\n",
       "\n",
       "    .dataframe tbody tr th {\n",
       "        vertical-align: top;\n",
       "    }\n",
       "\n",
       "    .dataframe thead th {\n",
       "        text-align: right;\n",
       "    }\n",
       "</style>\n",
       "<table border=\"1\" class=\"dataframe\">\n",
       "  <thead>\n",
       "    <tr style=\"text-align: right;\">\n",
       "      <th></th>\n",
       "      <th>Id</th>\n",
       "      <th>Country</th>\n",
       "    </tr>\n",
       "  </thead>\n",
       "  <tbody>\n",
       "    <tr>\n",
       "      <th>0</th>\n",
       "      <td>1</td>\n",
       "      <td>United States of America</td>\n",
       "    </tr>\n",
       "    <tr>\n",
       "      <th>1</th>\n",
       "      <td>2</td>\n",
       "      <td>United States of America</td>\n",
       "    </tr>\n",
       "    <tr>\n",
       "      <th>2</th>\n",
       "      <td>4</td>\n",
       "      <td>Unknown</td>\n",
       "    </tr>\n",
       "    <tr>\n",
       "      <th>3</th>\n",
       "      <td>5</td>\n",
       "      <td>United States of America</td>\n",
       "    </tr>\n",
       "    <tr>\n",
       "      <th>4</th>\n",
       "      <td>6</td>\n",
       "      <td>Germany</td>\n",
       "    </tr>\n",
       "  </tbody>\n",
       "</table>\n",
       "</div>"
      ],
      "text/plain": [
       "   Id                   Country\n",
       "0   1  United States of America\n",
       "1   2  United States of America\n",
       "2   4                   Unknown\n",
       "3   5  United States of America\n",
       "4   6                   Germany"
      ]
     },
     "execution_count": 19,
     "metadata": {},
     "output_type": "execute_result"
    }
   ],
   "source": [
    "user_countries.head()"
   ]
  },
  {
   "cell_type": "code",
   "execution_count": 20,
   "metadata": {},
   "outputs": [
    {
     "data": {
      "text/html": [
       "<div>\n",
       "<style scoped>\n",
       "    .dataframe tbody tr th:only-of-type {\n",
       "        vertical-align: middle;\n",
       "    }\n",
       "\n",
       "    .dataframe tbody tr th {\n",
       "        vertical-align: top;\n",
       "    }\n",
       "\n",
       "    .dataframe thead th {\n",
       "        text-align: right;\n",
       "    }\n",
       "</style>\n",
       "<table border=\"1\" class=\"dataframe\">\n",
       "  <thead>\n",
       "    <tr style=\"text-align: right;\">\n",
       "      <th></th>\n",
       "      <th>Id</th>\n",
       "      <th>Reputation</th>\n",
       "      <th>CreationDate</th>\n",
       "      <th>Location</th>\n",
       "      <th>Views</th>\n",
       "      <th>AccountId</th>\n",
       "      <th>Country</th>\n",
       "    </tr>\n",
       "  </thead>\n",
       "  <tbody>\n",
       "    <tr>\n",
       "      <th>0</th>\n",
       "      <td>1</td>\n",
       "      <td>101</td>\n",
       "      <td>2014-05-13 22:58:54.810</td>\n",
       "      <td>New York, NY</td>\n",
       "      <td>453</td>\n",
       "      <td>37099</td>\n",
       "      <td>United States of America</td>\n",
       "    </tr>\n",
       "    <tr>\n",
       "      <th>1</th>\n",
       "      <td>2</td>\n",
       "      <td>101</td>\n",
       "      <td>2014-05-13 22:59:19.787</td>\n",
       "      <td>Corvallis, OR</td>\n",
       "      <td>9</td>\n",
       "      <td>2</td>\n",
       "      <td>United States of America</td>\n",
       "    </tr>\n",
       "    <tr>\n",
       "      <th>3</th>\n",
       "      <td>5</td>\n",
       "      <td>150</td>\n",
       "      <td>2014-05-13 23:16:11.013</td>\n",
       "      <td>Texas, US</td>\n",
       "      <td>27</td>\n",
       "      <td>1266491</td>\n",
       "      <td>United States of America</td>\n",
       "    </tr>\n",
       "    <tr>\n",
       "      <th>4</th>\n",
       "      <td>6</td>\n",
       "      <td>101</td>\n",
       "      <td>2014-05-13 23:16:26.517</td>\n",
       "      <td>Dietzenbach, Deutschland</td>\n",
       "      <td>10</td>\n",
       "      <td>935589</td>\n",
       "      <td>Germany</td>\n",
       "    </tr>\n",
       "    <tr>\n",
       "      <th>6</th>\n",
       "      <td>9</td>\n",
       "      <td>1042</td>\n",
       "      <td>2014-05-13 23:18:21.653</td>\n",
       "      <td>Canada</td>\n",
       "      <td>27</td>\n",
       "      <td>1369656</td>\n",
       "      <td>Canada</td>\n",
       "    </tr>\n",
       "  </tbody>\n",
       "</table>\n",
       "</div>"
      ],
      "text/plain": [
       "   Id Reputation            CreationDate                  Location Views  \\\n",
       "0   1        101 2014-05-13 22:58:54.810              New York, NY   453   \n",
       "1   2        101 2014-05-13 22:59:19.787             Corvallis, OR     9   \n",
       "3   5        150 2014-05-13 23:16:11.013                 Texas, US    27   \n",
       "4   6        101 2014-05-13 23:16:26.517  Dietzenbach, Deutschland    10   \n",
       "6   9       1042 2014-05-13 23:18:21.653                    Canada    27   \n",
       "\n",
       "  AccountId                   Country  \n",
       "0     37099  United States of America  \n",
       "1         2  United States of America  \n",
       "3   1266491  United States of America  \n",
       "4    935589                   Germany  \n",
       "6   1369656                    Canada  "
      ]
     },
     "execution_count": 20,
     "metadata": {},
     "output_type": "execute_result"
    }
   ],
   "source": [
    "df_users_full= pd.merge(df_users_loc, user_countries, on='Id',  how='left')\n",
    "df_users_full[df_users_full['Country']!='Unknown'].head()"
   ]
  },
  {
   "cell_type": "code",
   "execution_count": 21,
   "metadata": {},
   "outputs": [
    {
     "data": {
      "text/plain": [
       "(1860, 7)"
      ]
     },
     "execution_count": 21,
     "metadata": {},
     "output_type": "execute_result"
    }
   ],
   "source": [
    "df_unknown = df_users_full[df_users_full['Country']=='Unknown']\n",
    "df_unknown.shape"
   ]
  },
  {
   "cell_type": "code",
   "execution_count": 22,
   "metadata": {},
   "outputs": [
    {
     "data": {
      "text/plain": [
       "(27446, 7)"
      ]
     },
     "execution_count": 22,
     "metadata": {},
     "output_type": "execute_result"
    }
   ],
   "source": [
    "users_data_full = df_users_full[df_users_full['Country']!='Unknown']\n",
    "users_data_full.shape"
   ]
  },
  {
   "cell_type": "code",
   "execution_count": 23,
   "metadata": {},
   "outputs": [
    {
     "data": {
      "text/plain": [
       "93.6531768238586"
      ]
     },
     "execution_count": 23,
     "metadata": {},
     "output_type": "execute_result"
    }
   ],
   "source": [
    "(27446/29306)*100"
   ]
  },
  {
   "cell_type": "code",
   "execution_count": 24,
   "metadata": {},
   "outputs": [
    {
     "data": {
      "text/html": [
       "<div>\n",
       "<style scoped>\n",
       "    .dataframe tbody tr th:only-of-type {\n",
       "        vertical-align: middle;\n",
       "    }\n",
       "\n",
       "    .dataframe tbody tr th {\n",
       "        vertical-align: top;\n",
       "    }\n",
       "\n",
       "    .dataframe thead th {\n",
       "        text-align: right;\n",
       "    }\n",
       "</style>\n",
       "<table border=\"1\" class=\"dataframe\">\n",
       "  <thead>\n",
       "    <tr style=\"text-align: right;\">\n",
       "      <th></th>\n",
       "      <th>ADMIN</th>\n",
       "      <th>population</th>\n",
       "    </tr>\n",
       "  </thead>\n",
       "  <tbody>\n",
       "    <tr>\n",
       "      <th>0</th>\n",
       "      <td>Afghanistan</td>\n",
       "      <td>2</td>\n",
       "    </tr>\n",
       "    <tr>\n",
       "      <th>1</th>\n",
       "      <td>Albania</td>\n",
       "      <td>4</td>\n",
       "    </tr>\n",
       "    <tr>\n",
       "      <th>2</th>\n",
       "      <td>Algeria</td>\n",
       "      <td>56</td>\n",
       "    </tr>\n",
       "    <tr>\n",
       "      <th>3</th>\n",
       "      <td>American Samoa</td>\n",
       "      <td>2</td>\n",
       "    </tr>\n",
       "    <tr>\n",
       "      <th>4</th>\n",
       "      <td>Antarctica</td>\n",
       "      <td>5</td>\n",
       "    </tr>\n",
       "  </tbody>\n",
       "</table>\n",
       "</div>"
      ],
      "text/plain": [
       "            ADMIN  population\n",
       "0     Afghanistan           2\n",
       "1         Albania           4\n",
       "2         Algeria          56\n",
       "3  American Samoa           2\n",
       "4      Antarctica           5"
      ]
     },
     "execution_count": 24,
     "metadata": {},
     "output_type": "execute_result"
    }
   ],
   "source": [
    "country_summary = users_data_full.groupby('Country')['AccountId'].agg('count').reset_index()\n",
    "country_summary.columns  = ['ADMIN', 'population']\n",
    "country_summary.head()"
   ]
  },
  {
   "cell_type": "code",
   "execution_count": 25,
   "metadata": {},
   "outputs": [
    {
     "data": {
      "text/html": [
       "<div>\n",
       "<style scoped>\n",
       "    .dataframe tbody tr th:only-of-type {\n",
       "        vertical-align: middle;\n",
       "    }\n",
       "\n",
       "    .dataframe tbody tr th {\n",
       "        vertical-align: top;\n",
       "    }\n",
       "\n",
       "    .dataframe thead th {\n",
       "        text-align: right;\n",
       "    }\n",
       "</style>\n",
       "<table border=\"1\" class=\"dataframe\">\n",
       "  <thead>\n",
       "    <tr style=\"text-align: right;\">\n",
       "      <th></th>\n",
       "      <th>ADMIN</th>\n",
       "      <th>ADM0_A3</th>\n",
       "      <th>geometry</th>\n",
       "    </tr>\n",
       "  </thead>\n",
       "  <tbody>\n",
       "    <tr>\n",
       "      <th>0</th>\n",
       "      <td>Fiji</td>\n",
       "      <td>FJI</td>\n",
       "      <td>MULTIPOLYGON (((180.00000 -16.06713, 180.00000...</td>\n",
       "    </tr>\n",
       "    <tr>\n",
       "      <th>1</th>\n",
       "      <td>United Republic of Tanzania</td>\n",
       "      <td>TZA</td>\n",
       "      <td>POLYGON ((33.90371 -0.95000, 34.07262 -1.05982...</td>\n",
       "    </tr>\n",
       "    <tr>\n",
       "      <th>2</th>\n",
       "      <td>Western Sahara</td>\n",
       "      <td>SAH</td>\n",
       "      <td>POLYGON ((-8.66559 27.65643, -8.66512 27.58948...</td>\n",
       "    </tr>\n",
       "    <tr>\n",
       "      <th>3</th>\n",
       "      <td>Canada</td>\n",
       "      <td>CAN</td>\n",
       "      <td>MULTIPOLYGON (((-122.84000 49.00000, -122.9742...</td>\n",
       "    </tr>\n",
       "    <tr>\n",
       "      <th>4</th>\n",
       "      <td>United States of America</td>\n",
       "      <td>USA</td>\n",
       "      <td>MULTIPOLYGON (((-122.84000 49.00000, -120.0000...</td>\n",
       "    </tr>\n",
       "  </tbody>\n",
       "</table>\n",
       "</div>"
      ],
      "text/plain": [
       "                         ADMIN ADM0_A3  \\\n",
       "0                         Fiji     FJI   \n",
       "1  United Republic of Tanzania     TZA   \n",
       "2               Western Sahara     SAH   \n",
       "3                       Canada     CAN   \n",
       "4     United States of America     USA   \n",
       "\n",
       "                                            geometry  \n",
       "0  MULTIPOLYGON (((180.00000 -16.06713, 180.00000...  \n",
       "1  POLYGON ((33.90371 -0.95000, 34.07262 -1.05982...  \n",
       "2  POLYGON ((-8.66559 27.65643, -8.66512 27.58948...  \n",
       "3  MULTIPOLYGON (((-122.84000 49.00000, -122.9742...  \n",
       "4  MULTIPOLYGON (((-122.84000 49.00000, -120.0000...  "
      ]
     },
     "execution_count": 25,
     "metadata": {},
     "output_type": "execute_result"
    }
   ],
   "source": [
    "worldmap.head()"
   ]
  },
  {
   "cell_type": "code",
   "execution_count": 26,
   "metadata": {},
   "outputs": [],
   "source": [
    "user_map= pd.merge(worldmap, country_summary, on='ADMIN',  how='left')\n",
    "user_map['population'].fillna(0, inplace=True)\n",
    "user_map_over = user_map[user_map['population']>0]\n",
    "user_map_under = user_map[user_map['population']==0]"
   ]
  },
  {
   "cell_type": "code",
   "execution_count": 27,
   "metadata": {},
   "outputs": [
    {
     "data": {
      "image/png": "[encoded data removed]",
      "text/plain": [
       "<Figure size 1152x648 with 1 Axes>"
      ]
     },
     "metadata": {
      "needs_background": "light"
     },
     "output_type": "display_data"
    }
   ],
   "source": [
    "fig, ax = plt.subplots(figsize = (16,9))\n",
    "user_map_over.plot(ax = ax, column = 'population', k = 12 ,cmap='Greens', scheme='jenks_caspall', legend=True)\n",
    "user_map_under.plot(ax = ax, color='w',legend=True)\n",
    "ax.set_axis_off()\n",
    "plt.show()"
   ]
  },
  {
   "cell_type": "markdown",
   "metadata": {},
   "source": [
    "### Testing Tag distibution by country: Failed"
   ]
  },
  {
   "cell_type": "code",
   "execution_count": 28,
   "metadata": {},
   "outputs": [
    {
     "data": {
      "text/html": [
       "<div>\n",
       "<style scoped>\n",
       "    .dataframe tbody tr th:only-of-type {\n",
       "        vertical-align: middle;\n",
       "    }\n",
       "\n",
       "    .dataframe tbody tr th {\n",
       "        vertical-align: top;\n",
       "    }\n",
       "\n",
       "    .dataframe thead th {\n",
       "        text-align: right;\n",
       "    }\n",
       "</style>\n",
       "<table border=\"1\" class=\"dataframe\">\n",
       "  <thead>\n",
       "    <tr style=\"text-align: right;\">\n",
       "      <th></th>\n",
       "      <th>Id</th>\n",
       "      <th>Reputation</th>\n",
       "      <th>CreationDate</th>\n",
       "      <th>Location</th>\n",
       "      <th>Views</th>\n",
       "      <th>AccountId</th>\n",
       "      <th>Country</th>\n",
       "      <th>YearCreated</th>\n",
       "    </tr>\n",
       "  </thead>\n",
       "  <tbody>\n",
       "    <tr>\n",
       "      <th>0</th>\n",
       "      <td>1</td>\n",
       "      <td>101</td>\n",
       "      <td>2014-05-13 22:58:54.810</td>\n",
       "      <td>New York, NY</td>\n",
       "      <td>453</td>\n",
       "      <td>37099</td>\n",
       "      <td>United States of America</td>\n",
       "      <td>2014</td>\n",
       "    </tr>\n",
       "    <tr>\n",
       "      <th>1</th>\n",
       "      <td>2</td>\n",
       "      <td>101</td>\n",
       "      <td>2014-05-13 22:59:19.787</td>\n",
       "      <td>Corvallis, OR</td>\n",
       "      <td>9</td>\n",
       "      <td>2</td>\n",
       "      <td>United States of America</td>\n",
       "      <td>2014</td>\n",
       "    </tr>\n",
       "    <tr>\n",
       "      <th>2</th>\n",
       "      <td>4</td>\n",
       "      <td>101</td>\n",
       "      <td>2014-05-13 23:16:09.937</td>\n",
       "      <td>Republic of Texas</td>\n",
       "      <td>9</td>\n",
       "      <td>2365</td>\n",
       "      <td>Unknown</td>\n",
       "      <td>2014</td>\n",
       "    </tr>\n",
       "    <tr>\n",
       "      <th>3</th>\n",
       "      <td>5</td>\n",
       "      <td>150</td>\n",
       "      <td>2014-05-13 23:16:11.013</td>\n",
       "      <td>Texas, US</td>\n",
       "      <td>27</td>\n",
       "      <td>1266491</td>\n",
       "      <td>United States of America</td>\n",
       "      <td>2014</td>\n",
       "    </tr>\n",
       "    <tr>\n",
       "      <th>4</th>\n",
       "      <td>6</td>\n",
       "      <td>101</td>\n",
       "      <td>2014-05-13 23:16:26.517</td>\n",
       "      <td>Dietzenbach, Deutschland</td>\n",
       "      <td>10</td>\n",
       "      <td>935589</td>\n",
       "      <td>Germany</td>\n",
       "      <td>2014</td>\n",
       "    </tr>\n",
       "  </tbody>\n",
       "</table>\n",
       "</div>"
      ],
      "text/plain": [
       "   Id Reputation            CreationDate                  Location Views  \\\n",
       "0   1        101 2014-05-13 22:58:54.810              New York, NY   453   \n",
       "1   2        101 2014-05-13 22:59:19.787             Corvallis, OR     9   \n",
       "2   4        101 2014-05-13 23:16:09.937         Republic of Texas     9   \n",
       "3   5        150 2014-05-13 23:16:11.013                 Texas, US    27   \n",
       "4   6        101 2014-05-13 23:16:26.517  Dietzenbach, Deutschland    10   \n",
       "\n",
       "  AccountId                   Country  YearCreated  \n",
       "0     37099  United States of America         2014  \n",
       "1         2  United States of America         2014  \n",
       "2      2365                   Unknown         2014  \n",
       "3   1266491  United States of America         2014  \n",
       "4    935589                   Germany         2014  "
      ]
     },
     "execution_count": 28,
     "metadata": {},
     "output_type": "execute_result"
    }
   ],
   "source": [
    "df_users_full['YearCreated'] = df_users_full.CreationDate.dt.year\n",
    "df_users_full.head()"
   ]
  },
  {
   "cell_type": "code",
   "execution_count": 29,
   "metadata": {},
   "outputs": [],
   "source": [
    "data_posts = load_posts()"
   ]
  },
  {
   "cell_type": "code",
   "execution_count": 30,
   "metadata": {},
   "outputs": [],
   "source": [
    "tags = load_tags()"
   ]
  },
  {
   "cell_type": "code",
   "execution_count": 31,
   "metadata": {},
   "outputs": [
    {
     "data": {
      "text/html": [
       "<div>\n",
       "<style scoped>\n",
       "    .dataframe tbody tr th:only-of-type {\n",
       "        vertical-align: middle;\n",
       "    }\n",
       "\n",
       "    .dataframe tbody tr th {\n",
       "        vertical-align: top;\n",
       "    }\n",
       "\n",
       "    .dataframe thead th {\n",
       "        text-align: right;\n",
       "    }\n",
       "</style>\n",
       "<table border=\"1\" class=\"dataframe\">\n",
       "  <thead>\n",
       "    <tr style=\"text-align: right;\">\n",
       "      <th></th>\n",
       "      <th>Id</th>\n",
       "      <th>PostTypeId</th>\n",
       "      <th>CreationDate</th>\n",
       "      <th>Score</th>\n",
       "      <th>ViewCount</th>\n",
       "      <th>AcceptedAnswerId</th>\n",
       "      <th>ParentID</th>\n",
       "      <th>OwnerUserId</th>\n",
       "      <th>YearCreated</th>\n",
       "    </tr>\n",
       "  </thead>\n",
       "  <tbody>\n",
       "    <tr>\n",
       "      <th>0</th>\n",
       "      <td>5</td>\n",
       "      <td>1</td>\n",
       "      <td>2014-05-13 23:58:30.457</td>\n",
       "      <td>8</td>\n",
       "      <td>604</td>\n",
       "      <td>None</td>\n",
       "      <td>None</td>\n",
       "      <td>5</td>\n",
       "      <td>2014</td>\n",
       "    </tr>\n",
       "    <tr>\n",
       "      <th>1</th>\n",
       "      <td>7</td>\n",
       "      <td>1</td>\n",
       "      <td>2014-05-14 00:11:06.457</td>\n",
       "      <td>4</td>\n",
       "      <td>426</td>\n",
       "      <td>10</td>\n",
       "      <td>None</td>\n",
       "      <td>36</td>\n",
       "      <td>2014</td>\n",
       "    </tr>\n",
       "    <tr>\n",
       "      <th>2</th>\n",
       "      <td>9</td>\n",
       "      <td>2</td>\n",
       "      <td>2014-05-14 00:36:31.077</td>\n",
       "      <td>5</td>\n",
       "      <td>None</td>\n",
       "      <td>None</td>\n",
       "      <td>None</td>\n",
       "      <td>51</td>\n",
       "      <td>2014</td>\n",
       "    </tr>\n",
       "    <tr>\n",
       "      <th>3</th>\n",
       "      <td>10</td>\n",
       "      <td>2</td>\n",
       "      <td>2014-05-14 00:53:43.273</td>\n",
       "      <td>12</td>\n",
       "      <td>None</td>\n",
       "      <td>None</td>\n",
       "      <td>None</td>\n",
       "      <td>22</td>\n",
       "      <td>2014</td>\n",
       "    </tr>\n",
       "    <tr>\n",
       "      <th>4</th>\n",
       "      <td>14</td>\n",
       "      <td>1</td>\n",
       "      <td>2014-05-14 01:25:59.677</td>\n",
       "      <td>23</td>\n",
       "      <td>1495</td>\n",
       "      <td>29</td>\n",
       "      <td>None</td>\n",
       "      <td>66</td>\n",
       "      <td>2014</td>\n",
       "    </tr>\n",
       "  </tbody>\n",
       "</table>\n",
       "</div>"
      ],
      "text/plain": [
       "   Id PostTypeId            CreationDate Score ViewCount AcceptedAnswerId  \\\n",
       "0   5          1 2014-05-13 23:58:30.457     8       604             None   \n",
       "1   7          1 2014-05-14 00:11:06.457     4       426               10   \n",
       "2   9          2 2014-05-14 00:36:31.077     5      None             None   \n",
       "3  10          2 2014-05-14 00:53:43.273    12      None             None   \n",
       "4  14          1 2014-05-14 01:25:59.677    23      1495               29   \n",
       "\n",
       "  ParentID OwnerUserId  YearCreated  \n",
       "0     None           5         2014  \n",
       "1     None          36         2014  \n",
       "2     None          51         2014  \n",
       "3     None          22         2014  \n",
       "4     None          66         2014  "
      ]
     },
     "execution_count": 31,
     "metadata": {},
     "output_type": "execute_result"
    }
   ],
   "source": [
    "data_posts_part = data_posts[['Id','PostTypeId','CreationDate','Score','ViewCount','AcceptedAnswerId','ParentID','OwnerUserId']]\n",
    "data_posts_part['CreationDate'] = pd.to_datetime(data_posts_part['CreationDate'], format=\"%Y-%m-%d %H:%M:%S\")\n",
    "data_posts_part['YearCreated'] = data_posts_part.CreationDate.dt.year\n",
    "data_posts_part.head()"
   ]
  },
  {
   "cell_type": "code",
   "execution_count": 32,
   "metadata": {},
   "outputs": [
    {
     "name": "stdout",
     "output_type": "stream",
     "text": [
      "(75368, 4)\n"
     ]
    },
    {
     "data": {
      "text/html": [
       "<div>\n",
       "<style scoped>\n",
       "    .dataframe tbody tr th:only-of-type {\n",
       "        vertical-align: middle;\n",
       "    }\n",
       "\n",
       "    .dataframe tbody tr th {\n",
       "        vertical-align: top;\n",
       "    }\n",
       "\n",
       "    .dataframe thead th {\n",
       "        text-align: right;\n",
       "    }\n",
       "</style>\n",
       "<table border=\"1\" class=\"dataframe\">\n",
       "  <thead>\n",
       "    <tr style=\"text-align: right;\">\n",
       "      <th></th>\n",
       "      <th>PostTypeId</th>\n",
       "      <th>YearCreated</th>\n",
       "      <th>OwnerUserId</th>\n",
       "      <th>Tag</th>\n",
       "    </tr>\n",
       "  </thead>\n",
       "  <tbody>\n",
       "    <tr>\n",
       "      <th>0</th>\n",
       "      <td>1</td>\n",
       "      <td>2014</td>\n",
       "      <td>5</td>\n",
       "      <td>machine-learning</td>\n",
       "    </tr>\n",
       "    <tr>\n",
       "      <th>1</th>\n",
       "      <td>1</td>\n",
       "      <td>2014</td>\n",
       "      <td>36</td>\n",
       "      <td>education</td>\n",
       "    </tr>\n",
       "    <tr>\n",
       "      <th>2</th>\n",
       "      <td>1</td>\n",
       "      <td>2014</td>\n",
       "      <td>36</td>\n",
       "      <td>open-source</td>\n",
       "    </tr>\n",
       "    <tr>\n",
       "      <th>3</th>\n",
       "      <td>2</td>\n",
       "      <td>2014</td>\n",
       "      <td>51</td>\n",
       "      <td>None</td>\n",
       "    </tr>\n",
       "    <tr>\n",
       "      <th>4</th>\n",
       "      <td>2</td>\n",
       "      <td>2014</td>\n",
       "      <td>22</td>\n",
       "      <td>None</td>\n",
       "    </tr>\n",
       "  </tbody>\n",
       "</table>\n",
       "</div>"
      ],
      "text/plain": [
       "  PostTypeId  YearCreated OwnerUserId               Tag\n",
       "0          1         2014           5  machine-learning\n",
       "1          1         2014          36         education\n",
       "2          1         2014          36       open-source\n",
       "3          2         2014          51              None\n",
       "4          2         2014          22              None"
      ]
     },
     "execution_count": 32,
     "metadata": {},
     "output_type": "execute_result"
    }
   ],
   "source": [
    "data_posts_temp = pd.merge(data_posts_part, tags, on='Id',  how='right')\n",
    "data_posts_temp = data_posts_temp[['PostTypeId','YearCreated','OwnerUserId','Tag']]\n",
    "print(data_posts_temp.shape)\n",
    "data_posts_temp.head()"
   ]
  },
  {
   "cell_type": "code",
   "execution_count": 33,
   "metadata": {},
   "outputs": [
    {
     "data": {
      "text/plain": [
       "(53952, 4)"
      ]
     },
     "execution_count": 33,
     "metadata": {},
     "output_type": "execute_result"
    }
   ],
   "source": [
    "data_posts_temp = data_posts_temp[data_posts_temp['Tag'].notna()]\n",
    "data_posts_temp.shape"
   ]
  },
  {
   "cell_type": "code",
   "execution_count": 34,
   "metadata": {},
   "outputs": [
    {
     "data": {
      "text/html": [
       "<div>\n",
       "<style scoped>\n",
       "    .dataframe tbody tr th:only-of-type {\n",
       "        vertical-align: middle;\n",
       "    }\n",
       "\n",
       "    .dataframe tbody tr th {\n",
       "        vertical-align: top;\n",
       "    }\n",
       "\n",
       "    .dataframe thead th {\n",
       "        text-align: right;\n",
       "    }\n",
       "</style>\n",
       "<table border=\"1\" class=\"dataframe\">\n",
       "  <thead>\n",
       "    <tr style=\"text-align: right;\">\n",
       "      <th></th>\n",
       "      <th>PostTypeId</th>\n",
       "      <th>YearCreated</th>\n",
       "      <th>OwnerUserId</th>\n",
       "      <th>Tag</th>\n",
       "    </tr>\n",
       "  </thead>\n",
       "  <tbody>\n",
       "    <tr>\n",
       "      <th>0</th>\n",
       "      <td>1</td>\n",
       "      <td>2014</td>\n",
       "      <td>5</td>\n",
       "      <td>machine-learning</td>\n",
       "    </tr>\n",
       "    <tr>\n",
       "      <th>1</th>\n",
       "      <td>1</td>\n",
       "      <td>2014</td>\n",
       "      <td>36</td>\n",
       "      <td>education</td>\n",
       "    </tr>\n",
       "    <tr>\n",
       "      <th>2</th>\n",
       "      <td>1</td>\n",
       "      <td>2014</td>\n",
       "      <td>36</td>\n",
       "      <td>open-source</td>\n",
       "    </tr>\n",
       "    <tr>\n",
       "      <th>5</th>\n",
       "      <td>1</td>\n",
       "      <td>2014</td>\n",
       "      <td>66</td>\n",
       "      <td>data-mining</td>\n",
       "    </tr>\n",
       "    <tr>\n",
       "      <th>6</th>\n",
       "      <td>1</td>\n",
       "      <td>2014</td>\n",
       "      <td>66</td>\n",
       "      <td>definitions</td>\n",
       "    </tr>\n",
       "  </tbody>\n",
       "</table>\n",
       "</div>"
      ],
      "text/plain": [
       "  PostTypeId  YearCreated OwnerUserId               Tag\n",
       "0          1         2014           5  machine-learning\n",
       "1          1         2014          36         education\n",
       "2          1         2014          36       open-source\n",
       "5          1         2014          66       data-mining\n",
       "6          1         2014          66       definitions"
      ]
     },
     "execution_count": 34,
     "metadata": {},
     "output_type": "execute_result"
    }
   ],
   "source": [
    "data_posts_temp.head()"
   ]
  },
  {
   "cell_type": "code",
   "execution_count": 35,
   "metadata": {},
   "outputs": [
    {
     "data": {
      "text/plain": [
       "10531"
      ]
     },
     "execution_count": 35,
     "metadata": {},
     "output_type": "execute_result"
    }
   ],
   "source": [
    "data_posts_temp['OwnerUserId'].nunique()"
   ]
  },
  {
   "cell_type": "code",
   "execution_count": 36,
   "metadata": {},
   "outputs": [
    {
     "data": {
      "text/html": [
       "<div>\n",
       "<style scoped>\n",
       "    .dataframe tbody tr th:only-of-type {\n",
       "        vertical-align: middle;\n",
       "    }\n",
       "\n",
       "    .dataframe tbody tr th {\n",
       "        vertical-align: top;\n",
       "    }\n",
       "\n",
       "    .dataframe thead th {\n",
       "        text-align: right;\n",
       "    }\n",
       "</style>\n",
       "<table border=\"1\" class=\"dataframe\">\n",
       "  <thead>\n",
       "    <tr style=\"text-align: right;\">\n",
       "      <th></th>\n",
       "      <th>OwnerUserId</th>\n",
       "      <th>Country</th>\n",
       "    </tr>\n",
       "  </thead>\n",
       "  <tbody>\n",
       "    <tr>\n",
       "      <th>0</th>\n",
       "      <td>37099</td>\n",
       "      <td>United States of America</td>\n",
       "    </tr>\n",
       "    <tr>\n",
       "      <th>1</th>\n",
       "      <td>2</td>\n",
       "      <td>United States of America</td>\n",
       "    </tr>\n",
       "    <tr>\n",
       "      <th>2</th>\n",
       "      <td>2365</td>\n",
       "      <td>Unknown</td>\n",
       "    </tr>\n",
       "    <tr>\n",
       "      <th>3</th>\n",
       "      <td>1266491</td>\n",
       "      <td>United States of America</td>\n",
       "    </tr>\n",
       "    <tr>\n",
       "      <th>4</th>\n",
       "      <td>935589</td>\n",
       "      <td>Germany</td>\n",
       "    </tr>\n",
       "  </tbody>\n",
       "</table>\n",
       "</div>"
      ],
      "text/plain": [
       "  OwnerUserId                   Country\n",
       "0       37099  United States of America\n",
       "1           2  United States of America\n",
       "2        2365                   Unknown\n",
       "3     1266491  United States of America\n",
       "4      935589                   Germany"
      ]
     },
     "execution_count": 36,
     "metadata": {},
     "output_type": "execute_result"
    }
   ],
   "source": [
    "sample_data = df_users_full[['AccountId','Country']]\n",
    "sample_data.columns = ['OwnerUserId','Country']\n",
    "sample_data.head()"
   ]
  },
  {
   "cell_type": "code",
   "execution_count": 37,
   "metadata": {},
   "outputs": [
    {
     "data": {
      "text/plain": [
       "(53952, 5)"
      ]
     },
     "execution_count": 37,
     "metadata": {},
     "output_type": "execute_result"
    }
   ],
   "source": [
    "sample_data_posts = pd.merge(data_posts_temp, sample_data, on='OwnerUserId',  how='left')\n",
    "sample_data_posts.shape"
   ]
  },
  {
   "cell_type": "code",
   "execution_count": 38,
   "metadata": {},
   "outputs": [
    {
     "data": {
      "text/plain": [
       "(983, 5)"
      ]
     },
     "execution_count": 38,
     "metadata": {},
     "output_type": "execute_result"
    }
   ],
   "source": [
    "data_x = sample_data_posts[sample_data_posts['Country'].notna()]\n",
    "data_x.shape"
   ]
  },
  {
   "cell_type": "code",
   "execution_count": 45,
   "metadata": {},
   "outputs": [
    {
     "data": {
      "text/html": [
       "<div>\n",
       "<style scoped>\n",
       "    .dataframe tbody tr th:only-of-type {\n",
       "        vertical-align: middle;\n",
       "    }\n",
       "\n",
       "    .dataframe tbody tr th {\n",
       "        vertical-align: top;\n",
       "    }\n",
       "\n",
       "    .dataframe thead th {\n",
       "        text-align: right;\n",
       "    }\n",
       "</style>\n",
       "<table border=\"1\" class=\"dataframe\">\n",
       "  <thead>\n",
       "    <tr style=\"text-align: right;\">\n",
       "      <th></th>\n",
       "      <th>PostTypeId</th>\n",
       "      <th>YearCreated</th>\n",
       "      <th>OwnerUserId</th>\n",
       "      <th>Tag</th>\n",
       "      <th>Country</th>\n",
       "    </tr>\n",
       "  </thead>\n",
       "  <tbody>\n",
       "    <tr>\n",
       "      <th>788</th>\n",
       "      <td>1</td>\n",
       "      <td>2014</td>\n",
       "      <td>2785</td>\n",
       "      <td>language-model</td>\n",
       "      <td>India</td>\n",
       "    </tr>\n",
       "    <tr>\n",
       "      <th>813</th>\n",
       "      <td>1</td>\n",
       "      <td>2014</td>\n",
       "      <td>3325</td>\n",
       "      <td>nlp</td>\n",
       "      <td>Canada</td>\n",
       "    </tr>\n",
       "    <tr>\n",
       "      <th>1591</th>\n",
       "      <td>1</td>\n",
       "      <td>2015</td>\n",
       "      <td>8235</td>\n",
       "      <td>machine-learning</td>\n",
       "      <td>Canada</td>\n",
       "    </tr>\n",
       "    <tr>\n",
       "      <th>1592</th>\n",
       "      <td>1</td>\n",
       "      <td>2015</td>\n",
       "      <td>8235</td>\n",
       "      <td>data-mining</td>\n",
       "      <td>Canada</td>\n",
       "    </tr>\n",
       "    <tr>\n",
       "      <th>1593</th>\n",
       "      <td>1</td>\n",
       "      <td>2015</td>\n",
       "      <td>8235</td>\n",
       "      <td>statistics</td>\n",
       "      <td>Canada</td>\n",
       "    </tr>\n",
       "    <tr>\n",
       "      <th>1594</th>\n",
       "      <td>1</td>\n",
       "      <td>2015</td>\n",
       "      <td>8235</td>\n",
       "      <td>predictive-modeling</td>\n",
       "      <td>Canada</td>\n",
       "    </tr>\n",
       "    <tr>\n",
       "      <th>1677</th>\n",
       "      <td>1</td>\n",
       "      <td>2015</td>\n",
       "      <td>8409</td>\n",
       "      <td>machine-learning</td>\n",
       "      <td>Unknown</td>\n",
       "    </tr>\n",
       "    <tr>\n",
       "      <th>1678</th>\n",
       "      <td>1</td>\n",
       "      <td>2015</td>\n",
       "      <td>8409</td>\n",
       "      <td>python</td>\n",
       "      <td>Unknown</td>\n",
       "    </tr>\n",
       "    <tr>\n",
       "      <th>1679</th>\n",
       "      <td>1</td>\n",
       "      <td>2015</td>\n",
       "      <td>8409</td>\n",
       "      <td>scikit-learn</td>\n",
       "      <td>Unknown</td>\n",
       "    </tr>\n",
       "    <tr>\n",
       "      <th>1680</th>\n",
       "      <td>1</td>\n",
       "      <td>2015</td>\n",
       "      <td>8409</td>\n",
       "      <td>random-forest</td>\n",
       "      <td>Unknown</td>\n",
       "    </tr>\n",
       "  </tbody>\n",
       "</table>\n",
       "</div>"
      ],
      "text/plain": [
       "     PostTypeId  YearCreated OwnerUserId                  Tag  Country\n",
       "788           1         2014        2785       language-model    India\n",
       "813           1         2014        3325                  nlp   Canada\n",
       "1591          1         2015        8235     machine-learning   Canada\n",
       "1592          1         2015        8235          data-mining   Canada\n",
       "1593          1         2015        8235           statistics   Canada\n",
       "1594          1         2015        8235  predictive-modeling   Canada\n",
       "1677          1         2015        8409     machine-learning  Unknown\n",
       "1678          1         2015        8409               python  Unknown\n",
       "1679          1         2015        8409         scikit-learn  Unknown\n",
       "1680          1         2015        8409        random-forest  Unknown"
      ]
     },
     "execution_count": 45,
     "metadata": {},
     "output_type": "execute_result"
    }
   ],
   "source": [
    "data_x[10:20]"
   ]
  },
  {
   "cell_type": "code",
   "execution_count": 40,
   "metadata": {},
   "outputs": [
    {
     "data": {
      "text/plain": [
       "171"
      ]
     },
     "execution_count": 40,
     "metadata": {},
     "output_type": "execute_result"
    }
   ],
   "source": [
    "data_x['OwnerUserId'].nunique()"
   ]
  },
  {
   "cell_type": "code",
   "execution_count": 41,
   "metadata": {},
   "outputs": [
    {
     "data": {
      "text/plain": [
       "0.6230416089776288"
      ]
     },
     "execution_count": 41,
     "metadata": {},
     "output_type": "execute_result"
    }
   ],
   "source": [
    "(171/27446)*100"
   ]
  },
  {
   "cell_type": "markdown",
   "metadata": {},
   "source": [
    "### Testing user increase by year (US, INDIA)"
   ]
  },
  {
   "cell_type": "code",
   "execution_count": 42,
   "metadata": {},
   "outputs": [
    {
     "data": {
      "text/html": [
       "<div>\n",
       "<style scoped>\n",
       "    .dataframe tbody tr th:only-of-type {\n",
       "        vertical-align: middle;\n",
       "    }\n",
       "\n",
       "    .dataframe tbody tr th {\n",
       "        vertical-align: top;\n",
       "    }\n",
       "\n",
       "    .dataframe thead th {\n",
       "        text-align: right;\n",
       "    }\n",
       "</style>\n",
       "<table border=\"1\" class=\"dataframe\">\n",
       "  <thead>\n",
       "    <tr style=\"text-align: right;\">\n",
       "      <th></th>\n",
       "      <th>Country</th>\n",
       "      <th>AccountId</th>\n",
       "    </tr>\n",
       "  </thead>\n",
       "  <tbody>\n",
       "    <tr>\n",
       "      <th>161</th>\n",
       "      <td>United States of America</td>\n",
       "      <td>7512</td>\n",
       "    </tr>\n",
       "    <tr>\n",
       "      <th>63</th>\n",
       "      <td>India</td>\n",
       "      <td>5190</td>\n",
       "    </tr>\n",
       "    <tr>\n",
       "      <th>52</th>\n",
       "      <td>Germany</td>\n",
       "      <td>1448</td>\n",
       "    </tr>\n",
       "    <tr>\n",
       "      <th>159</th>\n",
       "      <td>United Kingdom</td>\n",
       "      <td>1112</td>\n",
       "    </tr>\n",
       "    <tr>\n",
       "      <th>29</th>\n",
       "      <td>Canada</td>\n",
       "      <td>891</td>\n",
       "    </tr>\n",
       "  </tbody>\n",
       "</table>\n",
       "</div>"
      ],
      "text/plain": [
       "                      Country  AccountId\n",
       "161  United States of America       7512\n",
       "63                      India       5190\n",
       "52                    Germany       1448\n",
       "159            United Kingdom       1112\n",
       "29                     Canada        891"
      ]
     },
     "execution_count": 42,
     "metadata": {},
     "output_type": "execute_result"
    }
   ],
   "source": [
    "data_top_5 = (df_users_full.groupby('Country')['AccountId'].size().reset_index()).sort_values(['AccountId'], ascending=False)\n",
    "data_top_5 = data_top_5[data_top_5['Country']!='Unknown']\n",
    "data_top_5 = data_top_5[0:5]\n",
    "data_top_5"
   ]
  },
  {
   "cell_type": "code",
   "execution_count": 46,
   "metadata": {},
   "outputs": [
    {
     "data": {
      "text/plain": [
       "Text(0, 0.5, 'Population')"
      ]
     },
     "execution_count": 46,
     "metadata": {},
     "output_type": "execute_result"
    },
    {
     "data": {
      "image/png": "[encoded data removed]",
      "text/plain": [
       "<Figure size 864x576 with 1 Axes>"
      ]
     },
     "metadata": {
      "needs_background": "light"
     },
     "output_type": "display_data"
    }
   ],
   "source": [
    "fig = plt.subplots(figsize = (12,8))\n",
    "for index, row in data_top_5.iterrows():\n",
    "    frame = df_users_full[df_users_full['Country']==row['Country']]\n",
    "    frame = frame.groupby('YearCreated').size().reset_index()\n",
    "    frame.columns = ['YearCreated','Population']\n",
    "    plt.plot(frame.YearCreated,frame.Population, marker = 'o', label=row['Country'])\n",
    "plt.legend()\n",
    "plt.title('StackOverflow New Users Population of Top 5 Countries Over 6 Years')\n",
    "plt.xlabel('Years')\n",
    "plt.ylabel('Population')"
   ]
  },
  {
   "cell_type": "code",
   "execution_count": 44,
   "metadata": {},
   "outputs": [
    {
     "data": {
      "text/plain": [
       "Text(0, 0.5, 'Population')"
      ]
     },
     "execution_count": 44,
     "metadata": {},
     "output_type": "execute_result"
    },
    {
     "data": {
      "image/png": "[encoded data removed]",
      "text/plain": [
       "<Figure size 864x576 with 1 Axes>"
      ]
     },
     "metadata": {
      "needs_background": "light"
     },
     "output_type": "display_data"
    }
   ],
   "source": [
    "fig = plt.subplots(figsize = (12,8))\n",
    "prev = 0\n",
    "for index, row in data_top_5.iterrows():\n",
    "    years = dict()\n",
    "    for year in range(2014,2020): \n",
    "        frame = df_users_full[(df_users_full['Country']==row['Country']) & (df_users_full['YearCreated']<=year)]\n",
    "        years[year] = len(frame)\n",
    "        #frame = frame.groupby('YearCreated').size().reset_index()\n",
    "        #frame.columns = ['YearCreated','Population']\n",
    "    plt.plot(years.keys(),years.values(), marker = 'o', label=row['Country'])\n",
    "plt.legend()\n",
    "plt.title('Cumulative StackOverflow Population of Top 5 Countries Over 6 Years')\n",
    "plt.xlabel('Years')\n",
    "plt.ylabel('Population')"
   ]
  }
 ],
 "metadata": {
  "kernelspec": {
   "display_name": "Python 3",
   "language": "python",
   "name": "python3"
  },
  "language_info": {
   "codemirror_mode": {
    "name": "ipython",
    "version": 3
   },
   "file_extension": ".py",
   "mimetype": "text/x-python",
   "name": "python",
   "nbconvert_exporter": "python",
   "pygments_lexer": "ipython3",
   "version": "3.7.3"
  }
 },
 "nbformat": 4,
 "nbformat_minor": 2
}
