{
 "cells": [
  {
   "cell_type": "code",
   "execution_count": 31,
   "metadata": {},
   "outputs": [],
   "source": [
    "import pandas as pd\n",
    "import numpy as np\n",
    "import matplotlib.pyplot as plt\n",
    "import seaborn as ns\n",
    "import xml.etree.ElementTree as ET\n",
    "import time"
   ]
  },
  {
   "cell_type": "markdown",
   "metadata": {},
   "source": [
    "## Reding xml data into pandas dataframe"
   ]
  },
  {
   "cell_type": "code",
   "execution_count": 26,
   "metadata": {},
   "outputs": [],
   "source": [
    "def read_xml(xml_filename):\n",
    "    xtree = ET.parse(xml_filename)\n",
    "    xroot = xtree.getroot() \n",
    "    \n",
    "    # getting the columns\n",
    "    df_cols = []\n",
    "    for x in xroot:\n",
    "        for attr in x.attrib:\n",
    "            if attr not in df_cols:\n",
    "                df_cols.append(attr)\n",
    "    \n",
    "    # getting the records\n",
    "    rows = []\n",
    "    for x in xroot:\n",
    "        row = dict()\n",
    "        for col in df_cols:\n",
    "            if col in x.attrib:\n",
    "                row[col] = x.attrib[col]\n",
    "            else:\n",
    "                row[col] = None\n",
    "        rows.append(row)\n",
    "        \n",
    "    out_df = pd.DataFrame(rows, columns = df_cols)\n",
    "    return out_df"
   ]
  },
  {
   "cell_type": "code",
   "execution_count": 29,
   "metadata": {},
   "outputs": [
    {
     "name": "stdout",
     "output_type": "stream",
     "text": [
      "badges: (78180, 6)\n",
      "comments: (41722, 7)\n",
      "post_history: (121522, 9)\n",
      "post_links: (1653, 5)\n",
      "posts: (39929, 21)\n",
      "tags: (489, 5)\n",
      "users: (66951, 13)\n",
      "votes: (125650, 6)\n",
      "Wall time: 6.78 s\n"
     ]
    }
   ],
   "source": [
    "%%time\n",
    "badges = read_xml(\"data/Badges.xml\")\n",
    "print(\"badges:\", badges.shape)\n",
    "comments = read_xml(\"data/Comments.xml\")\n",
    "print(\"comments:\", comments.shape)\n",
    "post_history = read_xml(\"data/PostHistory.xml\")\n",
    "print(\"post_history:\", post_history.shape)\n",
    "post_links = read_xml(\"data/PostLinks.xml\")\n",
    "print(\"post_links:\", post_links.shape)\n",
    "posts = read_xml(\"data/Posts.xml\")\n",
    "print(\"posts:\", posts.shape)\n",
    "tags = read_xml(\"data/Tags.xml\")\n",
    "print(\"tags:\", tags.shape)\n",
    "users = read_xml(\"data/Users.xml\")\n",
    "print(\"users:\", users.shape)\n",
    "votes = read_xml(\"data/Votes.xml\")\n",
    "print(\"votes:\", votes.shape)"
   ]
  },
  {
   "cell_type": "code",
   "execution_count": 32,
   "metadata": {},
   "outputs": [],
   "source": [
    "start_time = time.time()"
   ]
  },
  {
   "cell_type": "code",
   "execution_count": 34,
   "metadata": {},
   "outputs": [
    {
     "name": "stdout",
     "output_type": "stream",
     "text": [
      "It took 24.416924238204956 seconds to process\n"
     ]
    }
   ],
   "source": [
    "print(\"It took %s seconds to process\" % (time.time() - start_time))"
   ]
  }
 ],
 "metadata": {
  "kernelspec": {
   "display_name": "Python 3",
   "language": "python",
   "name": "python3"
  },
  "language_info": {
   "codemirror_mode": {
    "name": "ipython",
    "version": 3
   },
   "file_extension": ".py",
   "mimetype": "text/x-python",
   "name": "python",
   "nbconvert_exporter": "python",
   "pygments_lexer": "ipython3",
   "version": "3.7.5"
  }
 },
 "nbformat": 4,
 "nbformat_minor": 2
}
