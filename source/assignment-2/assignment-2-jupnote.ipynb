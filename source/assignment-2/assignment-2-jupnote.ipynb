{
 "cells": [
  {
   "cell_type": "code",
   "execution_count": 1,
   "metadata": {},
   "outputs": [
    {
     "name": "stdout",
     "output_type": "stream",
     "text": [
      "   VendorID    tpep_pickup_datetime   tpep_dropoff_datetime  passenger_count  \\\n",
      "0         2  11/04/2084 12:32:24 PM  11/04/2084 12:47:41 PM                1   \n",
      "1         2  11/04/2084 12:32:24 PM  11/04/2084 12:47:41 PM                1   \n",
      "2         2  11/04/2084 12:25:53 PM  11/04/2084 12:29:00 PM                1   \n",
      "3         2  11/04/2084 12:25:53 PM  11/04/2084 12:29:00 PM                1   \n",
      "4         2  11/04/2084 12:08:33 PM  11/04/2084 12:22:24 PM                1   \n",
      "\n",
      "   trip_distance  RatecodeID store_and_fwd_flag  PULocationID  DOLocationID  \\\n",
      "0           1.34           1                  N           238           236   \n",
      "1           1.34           1                  N           238           236   \n",
      "2           0.32           1                  N           238           238   \n",
      "3           0.32           1                  N           238           238   \n",
      "4           1.85           1                  N           236           238   \n",
      "\n",
      "   payment_type  fare_amount  extra  mta_tax  tip_amount  tolls_amount  \\\n",
      "0             2         10.0    0.0      0.5         0.0           0.0   \n",
      "1             2         10.0    0.0      0.5         0.0           0.0   \n",
      "2             2          4.0    0.0      0.5         0.0           0.0   \n",
      "3             2          4.0    0.0      0.5         0.0           0.0   \n",
      "4             2         10.0    0.0      0.5         0.0           0.0   \n",
      "\n",
      "   improvement_surcharge  total_amount  \n",
      "0                    0.3          10.8  \n",
      "1                    0.3          10.8  \n",
      "2                    0.3           4.8  \n",
      "3                    0.3           4.8  \n",
      "4                    0.3          10.8  \n"
     ]
    }
   ],
   "source": [
    "import pandas as pd\n",
    "import numpy as np\n",
    "\n",
    "taxiSample = pd.read_csv(\"data/taxi-sample.csv\")\n",
    "print(taxiSample.head())"
   ]
  },
  {
   "cell_type": "code",
   "execution_count": null,
   "metadata": {},
   "outputs": [],
   "source": []
  }
 ],
 "metadata": {
  "kernelspec": {
   "display_name": "Python 3",
   "language": "python",
   "name": "python3"
  },
  "language_info": {
   "codemirror_mode": {
    "name": "ipython",
    "version": 3
   },
   "file_extension": ".py",
   "mimetype": "text/x-python",
   "name": "python",
   "nbconvert_exporter": "python",
   "pygments_lexer": "ipython3",
   "version": "3.7.4"
  }
 },
 "nbformat": 4,
 "nbformat_minor": 2
}
