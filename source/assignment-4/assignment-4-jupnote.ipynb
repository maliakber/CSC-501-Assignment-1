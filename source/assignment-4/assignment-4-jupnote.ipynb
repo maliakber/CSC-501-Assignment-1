{
 "cells": [
  {
   "cell_type": "code",
   "execution_count": 1,
   "metadata": {},
   "outputs": [],
   "source": [
    "import pandas as pd\n",
    "import numpy as np\n",
    "import matplotlib.pyplot as plt\n",
    "import nltk\n",
    "import spacy\n",
    "import en_core_web_sm\n",
    "import warnings \n",
    "import gensim\n",
    "import time\n",
    "import re\n",
    "import os\n",
    "import random\n",
    "import seaborn as sns\n",
    "import multiprocessing\n",
    "import warnings\n",
    "from nltk.tokenize import sent_tokenize, word_tokenize, regexp_tokenize\n",
    "from gensim.models import Word2Vec\n",
    "from gensim.models.phrases import Phrases, Phraser\n",
    "from collections import Counter\n",
    "from collections import defaultdict  # For word frequency\n",
    "from sklearn.decomposition import PCA\n",
    "from sklearn.manifold import TSNE\n",
    "\n",
    "sns.set_style(\"darkgrid\")\n",
    "warnings.filterwarnings(action = 'ignore') "
   ]
  },
  {
   "cell_type": "markdown",
   "metadata": {},
   "source": [
    "# 1. Loading the data"
   ]
  },
  {
   "cell_type": "code",
   "execution_count": 2,
   "metadata": {},
   "outputs": [
    {
     "name": "stdout",
     "output_type": "stream",
     "text": [
      "(2946207, 21)\n",
      "Wall time: 32 s\n"
     ]
    },
    {
     "data": {
      "text/html": [
       "<div>\n",
       "<style scoped>\n",
       "    .dataframe tbody tr th:only-of-type {\n",
       "        vertical-align: middle;\n",
       "    }\n",
       "\n",
       "    .dataframe tbody tr th {\n",
       "        vertical-align: top;\n",
       "    }\n",
       "\n",
       "    .dataframe thead th {\n",
       "        text-align: right;\n",
       "    }\n",
       "</style>\n",
       "<table border=\"1\" class=\"dataframe\">\n",
       "  <thead>\n",
       "    <tr style=\"text-align: right;\">\n",
       "      <th></th>\n",
       "      <th>external_author_id</th>\n",
       "      <th>author</th>\n",
       "      <th>content</th>\n",
       "      <th>region</th>\n",
       "      <th>language</th>\n",
       "      <th>publish_date</th>\n",
       "      <th>harvested_date</th>\n",
       "      <th>following</th>\n",
       "      <th>followers</th>\n",
       "      <th>updates</th>\n",
       "      <th>...</th>\n",
       "      <th>account_type</th>\n",
       "      <th>retweet</th>\n",
       "      <th>account_category</th>\n",
       "      <th>new_june_2018</th>\n",
       "      <th>alt_external_id</th>\n",
       "      <th>tweet_id</th>\n",
       "      <th>article_url</th>\n",
       "      <th>tco1_step1</th>\n",
       "      <th>tco2_step1</th>\n",
       "      <th>tco3_step1</th>\n",
       "    </tr>\n",
       "  </thead>\n",
       "  <tbody>\n",
       "    <tr>\n",
       "      <th>0</th>\n",
       "      <td>906000000000000000</td>\n",
       "      <td>10_GOP</td>\n",
       "      <td>\"We have a sitting Democrat US Senator on tria...</td>\n",
       "      <td>Unknown</td>\n",
       "      <td>English</td>\n",
       "      <td>10/1/2017 19:58</td>\n",
       "      <td>10/1/2017 19:59</td>\n",
       "      <td>1052</td>\n",
       "      <td>9636</td>\n",
       "      <td>253</td>\n",
       "      <td>...</td>\n",
       "      <td>Right</td>\n",
       "      <td>0</td>\n",
       "      <td>RightTroll</td>\n",
       "      <td>0</td>\n",
       "      <td>905874659358453760</td>\n",
       "      <td>914580356430536707</td>\n",
       "      <td>http://twitter.com/905874659358453760/statuses...</td>\n",
       "      <td>https://twitter.com/10_gop/status/914580356430...</td>\n",
       "      <td>NaN</td>\n",
       "      <td>NaN</td>\n",
       "    </tr>\n",
       "    <tr>\n",
       "      <th>1</th>\n",
       "      <td>906000000000000000</td>\n",
       "      <td>10_GOP</td>\n",
       "      <td>Marshawn Lynch arrives to game in anti-Trump s...</td>\n",
       "      <td>Unknown</td>\n",
       "      <td>English</td>\n",
       "      <td>10/1/2017 22:43</td>\n",
       "      <td>10/1/2017 22:43</td>\n",
       "      <td>1054</td>\n",
       "      <td>9637</td>\n",
       "      <td>254</td>\n",
       "      <td>...</td>\n",
       "      <td>Right</td>\n",
       "      <td>0</td>\n",
       "      <td>RightTroll</td>\n",
       "      <td>0</td>\n",
       "      <td>905874659358453760</td>\n",
       "      <td>914621840496189440</td>\n",
       "      <td>http://twitter.com/905874659358453760/statuses...</td>\n",
       "      <td>https://twitter.com/damienwoody/status/9145685...</td>\n",
       "      <td>NaN</td>\n",
       "      <td>NaN</td>\n",
       "    </tr>\n",
       "    <tr>\n",
       "      <th>2</th>\n",
       "      <td>906000000000000000</td>\n",
       "      <td>10_GOP</td>\n",
       "      <td>Daughter of fallen Navy Sailor delivers powerf...</td>\n",
       "      <td>Unknown</td>\n",
       "      <td>English</td>\n",
       "      <td>10/1/2017 22:50</td>\n",
       "      <td>10/1/2017 22:51</td>\n",
       "      <td>1054</td>\n",
       "      <td>9637</td>\n",
       "      <td>255</td>\n",
       "      <td>...</td>\n",
       "      <td>Right</td>\n",
       "      <td>1</td>\n",
       "      <td>RightTroll</td>\n",
       "      <td>0</td>\n",
       "      <td>905874659358453760</td>\n",
       "      <td>914623490375979008</td>\n",
       "      <td>http://twitter.com/905874659358453760/statuses...</td>\n",
       "      <td>https://twitter.com/10_gop/status/913231923715...</td>\n",
       "      <td>NaN</td>\n",
       "      <td>NaN</td>\n",
       "    </tr>\n",
       "    <tr>\n",
       "      <th>3</th>\n",
       "      <td>906000000000000000</td>\n",
       "      <td>10_GOP</td>\n",
       "      <td>JUST IN: President Trump dedicates Presidents ...</td>\n",
       "      <td>Unknown</td>\n",
       "      <td>English</td>\n",
       "      <td>10/1/2017 23:52</td>\n",
       "      <td>10/1/2017 23:52</td>\n",
       "      <td>1062</td>\n",
       "      <td>9642</td>\n",
       "      <td>256</td>\n",
       "      <td>...</td>\n",
       "      <td>Right</td>\n",
       "      <td>0</td>\n",
       "      <td>RightTroll</td>\n",
       "      <td>0</td>\n",
       "      <td>905874659358453760</td>\n",
       "      <td>914639143690555392</td>\n",
       "      <td>http://twitter.com/905874659358453760/statuses...</td>\n",
       "      <td>https://twitter.com/10_gop/status/914639143690...</td>\n",
       "      <td>NaN</td>\n",
       "      <td>NaN</td>\n",
       "    </tr>\n",
       "    <tr>\n",
       "      <th>4</th>\n",
       "      <td>906000000000000000</td>\n",
       "      <td>10_GOP</td>\n",
       "      <td>19,000 RESPECTING our National Anthem! #StandF...</td>\n",
       "      <td>Unknown</td>\n",
       "      <td>English</td>\n",
       "      <td>10/1/2017 2:13</td>\n",
       "      <td>10/1/2017 2:13</td>\n",
       "      <td>1050</td>\n",
       "      <td>9645</td>\n",
       "      <td>246</td>\n",
       "      <td>...</td>\n",
       "      <td>Right</td>\n",
       "      <td>1</td>\n",
       "      <td>RightTroll</td>\n",
       "      <td>0</td>\n",
       "      <td>905874659358453760</td>\n",
       "      <td>914312219952861184</td>\n",
       "      <td>http://twitter.com/905874659358453760/statuses...</td>\n",
       "      <td>https://twitter.com/realDonaldTrump/status/914...</td>\n",
       "      <td>NaN</td>\n",
       "      <td>NaN</td>\n",
       "    </tr>\n",
       "  </tbody>\n",
       "</table>\n",
       "<p>5 rows × 21 columns</p>\n",
       "</div>"
      ],
      "text/plain": [
       "   external_author_id  author  \\\n",
       "0  906000000000000000  10_GOP   \n",
       "1  906000000000000000  10_GOP   \n",
       "2  906000000000000000  10_GOP   \n",
       "3  906000000000000000  10_GOP   \n",
       "4  906000000000000000  10_GOP   \n",
       "\n",
       "                                             content   region language  \\\n",
       "0  \"We have a sitting Democrat US Senator on tria...  Unknown  English   \n",
       "1  Marshawn Lynch arrives to game in anti-Trump s...  Unknown  English   \n",
       "2  Daughter of fallen Navy Sailor delivers powerf...  Unknown  English   \n",
       "3  JUST IN: President Trump dedicates Presidents ...  Unknown  English   \n",
       "4  19,000 RESPECTING our National Anthem! #StandF...  Unknown  English   \n",
       "\n",
       "      publish_date   harvested_date  following  followers  updates  ...  \\\n",
       "0  10/1/2017 19:58  10/1/2017 19:59       1052       9636      253  ...   \n",
       "1  10/1/2017 22:43  10/1/2017 22:43       1054       9637      254  ...   \n",
       "2  10/1/2017 22:50  10/1/2017 22:51       1054       9637      255  ...   \n",
       "3  10/1/2017 23:52  10/1/2017 23:52       1062       9642      256  ...   \n",
       "4   10/1/2017 2:13   10/1/2017 2:13       1050       9645      246  ...   \n",
       "\n",
       "  account_type retweet  account_category new_june_2018     alt_external_id  \\\n",
       "0        Right       0        RightTroll             0  905874659358453760   \n",
       "1        Right       0        RightTroll             0  905874659358453760   \n",
       "2        Right       1        RightTroll             0  905874659358453760   \n",
       "3        Right       0        RightTroll             0  905874659358453760   \n",
       "4        Right       1        RightTroll             0  905874659358453760   \n",
       "\n",
       "             tweet_id                                        article_url  \\\n",
       "0  914580356430536707  http://twitter.com/905874659358453760/statuses...   \n",
       "1  914621840496189440  http://twitter.com/905874659358453760/statuses...   \n",
       "2  914623490375979008  http://twitter.com/905874659358453760/statuses...   \n",
       "3  914639143690555392  http://twitter.com/905874659358453760/statuses...   \n",
       "4  914312219952861184  http://twitter.com/905874659358453760/statuses...   \n",
       "\n",
       "                                          tco1_step1 tco2_step1 tco3_step1  \n",
       "0  https://twitter.com/10_gop/status/914580356430...        NaN        NaN  \n",
       "1  https://twitter.com/damienwoody/status/9145685...        NaN        NaN  \n",
       "2  https://twitter.com/10_gop/status/913231923715...        NaN        NaN  \n",
       "3  https://twitter.com/10_gop/status/914639143690...        NaN        NaN  \n",
       "4  https://twitter.com/realDonaldTrump/status/914...        NaN        NaN  \n",
       "\n",
       "[5 rows x 21 columns]"
      ]
     },
     "execution_count": 2,
     "metadata": {},
     "output_type": "execute_result"
    }
   ],
   "source": [
    "%%time\n",
    "data = pd.DataFrame()\n",
    "for root, dirs, files in os.walk(\"./data/\"):\n",
    "        for file in files:\n",
    "            if file.endswith(\".csv\"):\n",
    "                data = data.append(pd.read_csv(\"./data/\" + file))\n",
    "print(data.shape)\n",
    "data.head()"
   ]
  },
  {
   "cell_type": "markdown",
   "metadata": {},
   "source": [
    "# 2. Cleaning/pre-processing"
   ]
  },
  {
   "cell_type": "code",
   "execution_count": 3,
   "metadata": {},
   "outputs": [],
   "source": [
    "start_time = time.time()"
   ]
  },
  {
   "cell_type": "code",
   "execution_count": 4,
   "metadata": {},
   "outputs": [
    {
     "data": {
      "text/plain": [
       "12"
      ]
     },
     "execution_count": 4,
     "metadata": {},
     "output_type": "execute_result"
    }
   ],
   "source": [
    "cores = multiprocessing.cpu_count() # Count the number of cores in a computer\n",
    "cores"
   ]
  },
  {
   "cell_type": "markdown",
   "metadata": {},
   "source": [
    "### Work with English language only"
   ]
  },
  {
   "cell_type": "code",
   "execution_count": 5,
   "metadata": {},
   "outputs": [
    {
     "data": {
      "text/plain": [
       "array(['English', 'Russian', 'Serbian', 'Ukrainian', 'Tagalog (Filipino)',\n",
       "       'Albanian', 'Italian', 'Romanian', 'Spanish', 'Catalan', 'German',\n",
       "       'Estonian', 'French', 'Norwegian', 'Vietnamese', 'Dutch', 'Arabic',\n",
       "       'Uzbek', 'Bulgarian', 'Macedonian', 'Farsi (Persian)', 'Turkish',\n",
       "       'LANGUAGE UNDEFINED', 'Czech', 'Somali', 'Lithuanian', 'Croatian',\n",
       "       'Slovak', 'Icelandic', 'Slovenian', 'Japanese', 'Indonesian',\n",
       "       'Pushto', 'Hungarian', 'Finnish', 'Latvian', 'Portuguese',\n",
       "       'Danish', 'Swedish', 'Malay', 'Polish', 'Korean', 'Hebrew', 'Urdu',\n",
       "       'Kurdish', 'Hindi', 'Greek', 'Simplified Chinese', 'Thai',\n",
       "       'Gujarati', 'Bengali', 'Traditional Chinese', 'Kannada', 'Tamil',\n",
       "       'Telugu', 'Malayalam'], dtype=object)"
      ]
     },
     "execution_count": 5,
     "metadata": {},
     "output_type": "execute_result"
    }
   ],
   "source": [
    "data['language'].unique()"
   ]
  },
  {
   "cell_type": "code",
   "execution_count": 6,
   "metadata": {},
   "outputs": [
    {
     "name": "stdout",
     "output_type": "stream",
     "text": [
      "(2116867, 21)\n"
     ]
    }
   ],
   "source": [
    "data = data[data.language=='English']\n",
    "print(data.shape)"
   ]
  },
  {
   "cell_type": "markdown",
   "metadata": {},
   "source": [
    "- Only considering the English language"
   ]
  },
  {
   "cell_type": "markdown",
   "metadata": {},
   "source": [
    "### Check null values"
   ]
  },
  {
   "cell_type": "code",
   "execution_count": 7,
   "metadata": {
    "scrolled": false
   },
   "outputs": [
    {
     "data": {
      "text/plain": [
       "external_author_id          0\n",
       "author                      0\n",
       "content                     1\n",
       "region                   1136\n",
       "language                    0\n",
       "publish_date                0\n",
       "harvested_date              0\n",
       "following                   0\n",
       "followers                   0\n",
       "updates                     0\n",
       "post_type             1264331\n",
       "account_type                0\n",
       "retweet                     0\n",
       "account_category            0\n",
       "new_june_2018               0\n",
       "alt_external_id             0\n",
       "tweet_id                    0\n",
       "article_url                 0\n",
       "tco1_step1             758807\n",
       "tco2_step1            1665942\n",
       "tco3_step1            2102792\n",
       "dtype: int64"
      ]
     },
     "execution_count": 7,
     "metadata": {},
     "output_type": "execute_result"
    }
   ],
   "source": [
    "data.isnull().sum()"
   ]
  },
  {
   "cell_type": "markdown",
   "metadata": {},
   "source": [
    "- We will work with the content of each tweets, and it has only 1 null value, so we're gonna ignore it"
   ]
  },
  {
   "cell_type": "markdown",
   "metadata": {},
   "source": [
    "### Lemmatize, remove urls, stopwords, non-alphabetic-characters and tweets that has less than 3 words"
   ]
  },
  {
   "cell_type": "code",
   "execution_count": 8,
   "metadata": {
    "scrolled": false
   },
   "outputs": [],
   "source": [
    "nlp = en_core_web_sm.load(disable=['ner', 'parser'])\n",
    "# disabling Named Entity Recognition for speed\n",
    "\n",
    "def cleaning(doc):\n",
    "    # Lemmatizes and removes stopwords\n",
    "    # doc needs to be a spacy Doc object\n",
    "    txt = [token.lemma_ for token in doc if not token.is_stop]\n",
    "    # Word2Vec uses context words to learn the vector representation of a target word,\n",
    "    # if a sentence is only one or two words long,\n",
    "    # the benefit for the training is very small\n",
    "    if len(txt) > 2:\n",
    "        return ' '.join(txt)"
   ]
  },
  {
   "cell_type": "code",
   "execution_count": 9,
   "metadata": {},
   "outputs": [
    {
     "name": "stdout",
     "output_type": "stream",
     "text": [
      "Wall time: 22min 6s\n"
     ]
    }
   ],
   "source": [
    "%%time\n",
    "brief_cleaning = (re.sub(\"[^A-Za-z]+\", ' ', (re.sub(r'(?i)\\b((?:https?://|www\\d{0,3}[.]|[a-z0-9.\\-]+[.][a-z]{2,4}/)(?:[^\\s()<>]+|\\(([^\\s()<>]+|(\\([^\\s()<>]+\\)))*\\))+(?:\\(([^\\s()<>]+|(\\([^\\s()<>]+\\)))*\\)|[^\\s`!()\\[\\]{};:\\'\".,<>?«»“”‘’]))', ' ', str(row)))).lower() for row in data['content'])\n",
    "textlist = [cleaning(doc) for doc in nlp.pipe(brief_cleaning, batch_size=100000, n_threads=cores-1)]\n",
    "textlist = list(filter(None, textlist)) # removing the null tweets\n",
    "textlist = [' '.join(w for w in word.split() if len(w)>2) for word in textlist] # removing words that has less than 3 alphabet"
   ]
  },
  {
   "cell_type": "markdown",
   "metadata": {},
   "source": [
    "- Taking advantage of spaCy .pipe() attribute to speed-up the cleaning process:"
   ]
  },
  {
   "cell_type": "code",
   "execution_count": 10,
   "metadata": {},
   "outputs": [
    {
     "data": {
      "text/plain": [
       "(1550298, 1)"
      ]
     },
     "execution_count": 10,
     "metadata": {},
     "output_type": "execute_result"
    }
   ],
   "source": [
    "data_clean = pd.DataFrame({'clean': textlist})\n",
    "data_clean = data_clean.dropna().drop_duplicates()\n",
    "data_clean.shape"
   ]
  },
  {
   "cell_type": "code",
   "execution_count": 11,
   "metadata": {},
   "outputs": [
    {
     "data": {
      "text/plain": [
       "0    \"We have a sitting Democrat US Senator on tria...\n",
       "1    Marshawn Lynch arrives to game in anti-Trump s...\n",
       "2    Daughter of fallen Navy Sailor delivers powerf...\n",
       "3    JUST IN: President Trump dedicates Presidents ...\n",
       "4    19,000 RESPECTING our National Anthem! #StandF...\n",
       "Name: content, dtype: object"
      ]
     },
     "execution_count": 11,
     "metadata": {},
     "output_type": "execute_result"
    }
   ],
   "source": [
    "data['content'].head()"
   ]
  },
  {
   "cell_type": "code",
   "execution_count": 12,
   "metadata": {},
   "outputs": [
    {
     "data": {
      "text/plain": [
       "0    sit democrat senator trial corruption barely h...\n",
       "1    marshawn lynch arrive game anti trump shirt ju...\n",
       "2    daughter fallen navy sailor deliver powerful m...\n",
       "3    president trump dedicate presidents cup golf t...\n",
       "4            respect national anthem standforouranthem\n",
       "Name: clean, dtype: object"
      ]
     },
     "execution_count": 12,
     "metadata": {},
     "output_type": "execute_result"
    }
   ],
   "source": [
    "data_clean['clean'].head()"
   ]
  },
  {
   "cell_type": "markdown",
   "metadata": {},
   "source": [
    "### Detecting the phrases"
   ]
  },
  {
   "cell_type": "code",
   "execution_count": 13,
   "metadata": {},
   "outputs": [
    {
     "name": "stdout",
     "output_type": "stream",
     "text": [
      "Wall time: 4.22 s\n"
     ]
    }
   ],
   "source": [
    "%%time\n",
    "sent = [row.split() for row in data_clean['clean']]"
   ]
  },
  {
   "cell_type": "code",
   "execution_count": 14,
   "metadata": {},
   "outputs": [
    {
     "name": "stdout",
     "output_type": "stream",
     "text": [
      "Wall time: 19.2 s\n"
     ]
    }
   ],
   "source": [
    "%%time\n",
    "phrases = Phrases(sent, min_count=50, progress_per=10000)"
   ]
  },
  {
   "cell_type": "code",
   "execution_count": 15,
   "metadata": {},
   "outputs": [
    {
     "data": {
      "text/plain": [
       "5622349"
      ]
     },
     "execution_count": 15,
     "metadata": {},
     "output_type": "execute_result"
    }
   ],
   "source": [
    "len(phrases.vocab)"
   ]
  },
  {
   "cell_type": "code",
   "execution_count": 16,
   "metadata": {},
   "outputs": [
    {
     "name": "stdout",
     "output_type": "stream",
     "text": [
      "Wall time: 40 s\n"
     ]
    }
   ],
   "source": [
    "%%time\n",
    "bigram = Phraser(phrases)\n",
    "sentences = bigram[sent]"
   ]
  },
  {
   "cell_type": "code",
   "execution_count": 17,
   "metadata": {},
   "outputs": [
    {
     "name": "stdout",
     "output_type": "stream",
     "text": [
      "['sit', 'democrat', 'senator', 'trial', 'corruption', 'barely', 'hear', 'peep', 'mainstream_medium', 'nedryun']\n",
      "['marshawn_lynch', 'arrive', 'game', 'anti_trump', 'shirt', 'judge', 'sag', 'pant', 'shirt', 'lynch', 'belt']\n",
      "['daughter', 'fallen', 'navy', 'sailor', 'deliver', 'powerful', 'monologue', 'anthem_protest', 'burn', 'nfl', 'packers', 'gear', 'boycottnfl']\n",
      "['president_trump', 'dedicate', 'presidents', 'cup', 'golf', 'tournament', 'trophy', 'people', 'florida', 'texas', 'puerto_rico']\n",
      "['respect', 'national_anthem', 'standforouranthem']\n"
     ]
    }
   ],
   "source": [
    "for i in range(5):\n",
    "    print(sentences[i])"
   ]
  },
  {
   "cell_type": "markdown",
   "metadata": {},
   "source": [
    "- The goal of Phraser() is to cut down memory consumption of Phrases(), by discarding model state not strictly needed for the bigram detection task.\n",
    "- As we can see national and anthem were two different words, but they are merged into national_anthem (as phrase)"
   ]
  },
  {
   "cell_type": "markdown",
   "metadata": {},
   "source": [
    "### What is the word frequency in the data after cleaning?"
   ]
  },
  {
   "cell_type": "code",
   "execution_count": 18,
   "metadata": {},
   "outputs": [
    {
     "name": "stdout",
     "output_type": "stream",
     "text": [
      "Wall time: 30.8 s\n"
     ]
    },
    {
     "data": {
      "text/plain": [
       "705341"
      ]
     },
     "execution_count": 18,
     "metadata": {},
     "output_type": "execute_result"
    }
   ],
   "source": [
    "%%time\n",
    "word_freq = defaultdict(int)\n",
    "for sentence in sentences:\n",
    "    for word in sentence:\n",
    "        word_freq[word] += 1\n",
    "len(word_freq)"
   ]
  },
  {
   "cell_type": "code",
   "execution_count": 19,
   "metadata": {},
   "outputs": [
    {
     "data": {
      "text/plain": [
       "['news',\n",
       " 'trump',\n",
       " 'man',\n",
       " 'say',\n",
       " 'new',\n",
       " 'sport',\n",
       " 'police',\n",
       " 'workout',\n",
       " 'amp',\n",
       " 'people']"
      ]
     },
     "execution_count": 19,
     "metadata": {},
     "output_type": "execute_result"
    }
   ],
   "source": [
    "sorted(word_freq, key=word_freq.get, reverse=True)[:10]"
   ]
  },
  {
   "cell_type": "markdown",
   "metadata": {},
   "source": [
    "# 3. Training the model"
   ]
  },
  {
   "cell_type": "code",
   "execution_count": 20,
   "metadata": {},
   "outputs": [],
   "source": [
    "w2v_model = Word2Vec(min_count=10, # words frequency to be considered\n",
    "                     window=2, # skip-gram\n",
    "                     size=150, # dimension of feature vector of each word\n",
    "                     negative=5, # noise words, negative sampling\n",
    "                     workers=cores-1) # number of cores to be used"
   ]
  },
  {
   "cell_type": "code",
   "execution_count": 21,
   "metadata": {},
   "outputs": [
    {
     "name": "stdout",
     "output_type": "stream",
     "text": [
      "Wall time: 34.1 s\n"
     ]
    }
   ],
   "source": [
    "%%time\n",
    "w2v_model.build_vocab(sentences, progress_per=10000)"
   ]
  },
  {
   "cell_type": "code",
   "execution_count": 22,
   "metadata": {},
   "outputs": [
    {
     "name": "stdout",
     "output_type": "stream",
     "text": [
      "Wall time: 9min 24s\n"
     ]
    },
    {
     "data": {
      "text/plain": [
       "(154707047, 172716015)"
      ]
     },
     "execution_count": 22,
     "metadata": {},
     "output_type": "execute_result"
    }
   ],
   "source": [
    "%%time\n",
    "w2v_model.train(sentences, total_examples=w2v_model.corpus_count, epochs=15)"
   ]
  },
  {
   "cell_type": "code",
   "execution_count": 23,
   "metadata": {},
   "outputs": [],
   "source": [
    "w2v_model.init_sims(replace=True)"
   ]
  },
  {
   "cell_type": "markdown",
   "metadata": {},
   "source": [
    "- As we do not plan to train the model any further, we are calling init_sims(), which will make the model much more memory-efficient"
   ]
  },
  {
   "cell_type": "code",
   "execution_count": 24,
   "metadata": {},
   "outputs": [],
   "source": [
    "w2v_model.save(\"./data/model/word2vec.model\")"
   ]
  },
  {
   "cell_type": "markdown",
   "metadata": {},
   "source": [
    "- saving the model for further use, so we don't have to generate again"
   ]
  },
  {
   "cell_type": "markdown",
   "metadata": {},
   "source": [
    "# 4. Exploring the model"
   ]
  },
  {
   "cell_type": "code",
   "execution_count": 25,
   "metadata": {},
   "outputs": [
    {
     "name": "stdout",
     "output_type": "stream",
     "text": [
      "Word2Vec(vocab=47404, size=150, alpha=0.025)\n"
     ]
    }
   ],
   "source": [
    "print(w2v_model)"
   ]
  },
  {
   "cell_type": "markdown",
   "metadata": {},
   "source": [
    "### Most similar to"
   ]
  },
  {
   "cell_type": "code",
   "execution_count": 26,
   "metadata": {},
   "outputs": [
    {
     "data": {
      "text/plain": [
       "[('donald_trump', 0.8196240067481995),\n",
       " ('president_trump', 0.7485881447792053),\n",
       " ('donaldtrump', 0.6768622398376465),\n",
       " ('realdonaldtrump', 0.6348617672920227),\n",
       " ('djt', 0.5977342128753662),\n",
       " ('romney', 0.5724830627441406),\n",
       " ('potu', 0.5631394386291504),\n",
       " ('trumps', 0.5564202070236206),\n",
       " ('presidenttrump', 0.5550803542137146),\n",
       " ('trump_supporter', 0.538875937461853)]"
      ]
     },
     "execution_count": 26,
     "metadata": {},
     "output_type": "execute_result"
    }
   ],
   "source": [
    "w2v_model.wv.most_similar(positive=[\"trump\"])"
   ]
  },
  {
   "cell_type": "markdown",
   "metadata": {},
   "source": [
    "### Similarity"
   ]
  },
  {
   "cell_type": "code",
   "execution_count": 27,
   "metadata": {},
   "outputs": [
    {
     "data": {
      "text/plain": [
       "0.372691"
      ]
     },
     "execution_count": 27,
     "metadata": {},
     "output_type": "execute_result"
    }
   ],
   "source": [
    "w2v_model.wv.similarity('trump', 'election')"
   ]
  },
  {
   "cell_type": "markdown",
   "metadata": {},
   "source": [
    "### Odd-one-out"
   ]
  },
  {
   "cell_type": "code",
   "execution_count": 28,
   "metadata": {},
   "outputs": [
    {
     "data": {
      "text/plain": [
       "'hilary'"
      ]
     },
     "execution_count": 28,
     "metadata": {},
     "output_type": "execute_result"
    }
   ],
   "source": [
    "w2v_model.wv.doesnt_match(['trump', 'hilary', 'election'])"
   ]
  },
  {
   "cell_type": "markdown",
   "metadata": {},
   "source": [
    "### Analogy difference"
   ]
  },
  {
   "cell_type": "code",
   "execution_count": 29,
   "metadata": {},
   "outputs": [
    {
     "data": {
      "text/plain": [
       "[('neighbor', 0.4454706907272339),\n",
       " ('cop', 0.4395963251590729),\n",
       " ('guy', 0.433019757270813)]"
      ]
     },
     "execution_count": 29,
     "metadata": {},
     "output_type": "execute_result"
    }
   ],
   "source": [
    "w2v_model.wv.most_similar(positive=[\"king\", \"man\"], negative=[\"women\"], topn=3)"
   ]
  },
  {
   "cell_type": "markdown",
   "metadata": {},
   "source": [
    "### t-SNE visualizations\n",
    "t-SNE is a non-linear dimensionality reduction algorithm that attempts to represent high-dimensional data and the underlying relationships between vectors in a lower-dimensional space."
   ]
  },
  {
   "cell_type": "code",
   "execution_count": 30,
   "metadata": {},
   "outputs": [],
   "source": [
    "def tsnescatterplot(model, word, list_names):\n",
    "    \"\"\" Plot in seaborn the results from the t-SNE dimensionality reduction algorithm of the vectors of a query word,\n",
    "    its list of most similar words, and a list of words.\n",
    "    \"\"\"\n",
    "    arrays = np.empty((0, 150), dtype='f')\n",
    "    word_labels = [word]\n",
    "    color_list  = ['red']\n",
    "\n",
    "    # adds the vector of the query word\n",
    "    arrays = np.append(arrays, model.wv.__getitem__([word]), axis=0)\n",
    "    \n",
    "    # gets list of most similar words\n",
    "    close_words = model.wv.most_similar([word])\n",
    "    \n",
    "    # adds the vector for each of the closest words to the array\n",
    "    for wrd_score in close_words:\n",
    "        wrd_vector = model.wv.__getitem__([wrd_score[0]])\n",
    "        word_labels.append(wrd_score[0])\n",
    "        color_list.append('blue')\n",
    "        arrays = np.append(arrays, wrd_vector, axis=0)\n",
    "    \n",
    "    # adds the vector for each of the words from list_names to the array\n",
    "    for wrd in list_names:\n",
    "        wrd_vector = model.wv.__getitem__([wrd])\n",
    "        word_labels.append(wrd)\n",
    "        color_list.append('green')\n",
    "        arrays = np.append(arrays, wrd_vector, axis=0)\n",
    "        \n",
    "    # Reduces the dimensionality from 150 to 15 dimensions with PCA\n",
    "    reduc = PCA(n_components=15).fit_transform(arrays)\n",
    "    \n",
    "    # Finds t-SNE coordinates for 2 dimensions\n",
    "    np.set_printoptions(suppress=True)\n",
    "    \n",
    "    Y = TSNE(n_components=2, random_state=0, perplexity=15).fit_transform(reduc)\n",
    "    \n",
    "    # Sets everything up to plot\n",
    "    df = pd.DataFrame({'x': [x for x in Y[:, 0]],\n",
    "                       'y': [y for y in Y[:, 1]],\n",
    "                       'words': word_labels,\n",
    "                       'color': color_list})\n",
    "    \n",
    "    fig, _ = plt.subplots()\n",
    "    fig.set_size_inches(9, 9)\n",
    "    \n",
    "    # Basic plot\n",
    "    p1 = sns.regplot(data=df,\n",
    "                     x=\"x\",\n",
    "                     y=\"y\",\n",
    "                     fit_reg=False,\n",
    "                     marker=\"o\",\n",
    "                     scatter_kws={'s': 40,\n",
    "                                  'facecolors': df['color']\n",
    "                                 }\n",
    "                    )\n",
    "    \n",
    "    # Adds annotations one by one with a loop\n",
    "    for line in range(0, df.shape[0]):\n",
    "         p1.text(df[\"x\"][line],\n",
    "                 df['y'][line],\n",
    "                 '  ' + df[\"words\"][line].title(),\n",
    "                 horizontalalignment='left',\n",
    "                 verticalalignment='bottom', size='medium',\n",
    "                 color=df['color'][line],\n",
    "                 weight='normal'\n",
    "                ).set_size(15)\n",
    "\n",
    "    \n",
    "    plt.xlim(Y[:, 0].min()-50, Y[:, 0].max()+50)\n",
    "    plt.ylim(Y[:, 1].min()-50, Y[:, 1].max()+50)\n",
    "            \n",
    "    plt.title('t-SNE visualization for {}'.format(word.title()))"
   ]
  },
  {
   "cell_type": "markdown",
   "metadata": {},
   "source": [
    "### 10 Most similar words vs. some random words"
   ]
  },
  {
   "cell_type": "code",
   "execution_count": 31,
   "metadata": {
    "scrolled": false
   },
   "outputs": [
    {
     "data": {
      "image/png": "[encoded data removed]",
      "text/plain": [
       "<Figure size 648x648 with 1 Axes>"
      ]
     },
     "metadata": {
      "needs_background": "light"
     },
     "output_type": "display_data"
    }
   ],
   "source": [
    "tsnescatterplot(w2v_model, 'america', ['dog', 'bird', 'trump', 'election', 'hilary', 'twitter', 'russia', 'troll'])"
   ]
  },
  {
   "cell_type": "markdown",
   "metadata": {},
   "source": [
    "### 10 Most similar words vs. 10 most dissimilar"
   ]
  },
  {
   "cell_type": "code",
   "execution_count": 32,
   "metadata": {
    "scrolled": false
   },
   "outputs": [
    {
     "data": {
      "image/png": "[encoded data removed]",
      "text/plain": [
       "<Figure size 648x648 with 1 Axes>"
      ]
     },
     "metadata": {
      "needs_background": "light"
     },
     "output_type": "display_data"
    }
   ],
   "source": [
    "tsnescatterplot(w2v_model, 'trump', [i[0] for i in w2v_model.wv.most_similar(negative=[\"trump\"])])"
   ]
  },
  {
   "cell_type": "markdown",
   "metadata": {},
   "source": [
    "### Finding bias and random queries"
   ]
  },
  {
   "cell_type": "code",
   "execution_count": 33,
   "metadata": {
    "scrolled": true
   },
   "outputs": [
    {
     "data": {
      "text/plain": [
       "[('leadership', 0.617702066898346)]"
      ]
     },
     "execution_count": 33,
     "metadata": {},
     "output_type": "execute_result"
    }
   ],
   "source": [
    "w2v_model.wv.most_similar(positive=[\"leader\"], topn=1)"
   ]
  },
  {
   "cell_type": "code",
   "execution_count": 34,
   "metadata": {},
   "outputs": [
    {
     "data": {
      "text/plain": [
       "[('presidency', 0.6537885665893555), ('republicans', 0.6492531299591064)]"
      ]
     },
     "execution_count": 34,
     "metadata": {},
     "output_type": "execute_result"
    }
   ],
   "source": [
    "w2v_model.wv.most_similar(positive=['republican', 'president'], topn=2)"
   ]
  },
  {
   "cell_type": "code",
   "execution_count": 35,
   "metadata": {},
   "outputs": [
    {
     "data": {
      "text/plain": [
       "[('president_elect', 0.6203805804252625), ('presidency', 0.5750123858451843)]"
      ]
     },
     "execution_count": 35,
     "metadata": {},
     "output_type": "execute_result"
    }
   ],
   "source": [
    "w2v_model.wv.most_similar(positive=['republican', 'president'], negative=['democrat'], topn=2)"
   ]
  },
  {
   "cell_type": "code",
   "execution_count": 36,
   "metadata": {},
   "outputs": [
    {
     "data": {
      "text/plain": [
       "[('presidency', 0.5010323524475098), ('prez', 0.46725863218307495)]"
      ]
     },
     "execution_count": 36,
     "metadata": {},
     "output_type": "execute_result"
    }
   ],
   "source": [
    "w2v_model.wv.most_similar(positive=['democrat', 'president'], negative=['republican'], topn=2)"
   ]
  },
  {
   "cell_type": "code",
   "execution_count": 37,
   "metadata": {},
   "outputs": [
    {
     "data": {
      "text/plain": [
       "[('person', 0.5841429829597473),\n",
       " ('woman', 0.55961674451828),\n",
       " ('teenager', 0.5141026377677917),\n",
       " ('girl', 0.5090662240982056),\n",
       " ('teen_girl', 0.5032057166099548)]"
      ]
     },
     "execution_count": 37,
     "metadata": {},
     "output_type": "execute_result"
    }
   ],
   "source": [
    "w2v_model.wv.most_similar(positive=['man', 'career'], topn=5)"
   ]
  },
  {
   "cell_type": "code",
   "execution_count": 38,
   "metadata": {},
   "outputs": [
    {
     "data": {
      "text/plain": [
       "[('elder', 0.4060704708099365),\n",
       " ('pan', 0.359524130821228),\n",
       " ('warren', 0.3500211238861084),\n",
       " ('lewis', 0.33974483609199524),\n",
       " ('afro', 0.3367197811603546),\n",
       " ('nat', 0.3306848406791687),\n",
       " ('queen', 0.3248124122619629),\n",
       " ('saudi_king', 0.31509289145469666),\n",
       " ('women', 0.3137485384941101),\n",
       " ('black_woman', 0.3093785345554352)]"
      ]
     },
     "execution_count": 38,
     "metadata": {},
     "output_type": "execute_result"
    }
   ],
   "source": [
    "w2v_model.wv.most_similar(positive=['woman', 'king'], negative=['man'], topn=10)"
   ]
  },
  {
   "cell_type": "code",
   "execution_count": 39,
   "metadata": {
    "scrolled": true
   },
   "outputs": [
    {
     "data": {
      "text/plain": [
       "[('fakenew', 0.7107083797454834),\n",
       " ('freedomofthepress', 0.7012434601783752),\n",
       " ('fakenewsmedia', 0.6720388531684875),\n",
       " ('cnn_msnbc', 0.6520283818244934),\n",
       " ('fake_news', 0.6515477895736694),\n",
       " ('fakenewscnn', 0.6350615620613098),\n",
       " ('veryfakenew', 0.6279435157775879),\n",
       " ('veryfakenews', 0.6010816097259521),\n",
       " ('boycottcnn', 0.599384605884552),\n",
       " ('fakepoll', 0.5904039740562439)]"
      ]
     },
     "execution_count": 39,
     "metadata": {},
     "output_type": "execute_result"
    }
   ],
   "source": [
    "w2v_model.wv.most_similar(positive=['fakenews'], topn=10)"
   ]
  },
  {
   "cell_type": "markdown",
   "metadata": {},
   "source": [
    "# 5. Google's trained Word2Vec model vs our Word2Vec model\n",
    "- https://mccormickml.com/2016/04/12/googles-pretrained-word2vec-model-in-python/"
   ]
  },
  {
   "cell_type": "code",
   "execution_count": 40,
   "metadata": {},
   "outputs": [
    {
     "name": "stdout",
     "output_type": "stream",
     "text": [
      "Wall time: 52.6 s\n"
     ]
    }
   ],
   "source": [
    "%%time\n",
    "model = gensim.models.KeyedVectors.load_word2vec_format('./data/GoogleNews-vectors-negative300.bin', binary=True)"
   ]
  },
  {
   "cell_type": "code",
   "execution_count": 41,
   "metadata": {},
   "outputs": [
    {
     "name": "stdout",
     "output_type": "stream",
     "text": [
      "[('queen', 0.7118192911148071)]\n",
      "[('elder', 0.4060704708099365)]\n"
     ]
    }
   ],
   "source": [
    "print(model.wv.most_similar(positive=['woman', 'king'], negative=['man'], topn=1))\n",
    "print(w2v_model.wv.most_similar(positive=['woman', 'king'], negative=['man'], topn=1))"
   ]
  },
  {
   "cell_type": "code",
   "execution_count": 42,
   "metadata": {},
   "outputs": [
    {
     "name": "stdout",
     "output_type": "stream",
     "text": [
      "[('President', 0.6268802881240845)]\n",
      "[('presidency', 0.6537885665893555)]\n"
     ]
    }
   ],
   "source": [
    "print(model.wv.most_similar(positive=['republican', 'president'], topn=1))\n",
    "print(w2v_model.wv.most_similar(positive=['republican', 'president'], topn=1))"
   ]
  },
  {
   "cell_type": "code",
   "execution_count": 43,
   "metadata": {},
   "outputs": [
    {
     "name": "stdout",
     "output_type": "stream",
     "text": [
      "election\n",
      "england\n"
     ]
    }
   ],
   "source": [
    "print(model.wv.doesnt_match(['clinton', 'trump', 'russia', 'china', 'america', 'election', 'england', 'obama']))\n",
    "print(w2v_model.wv.doesnt_match(['clinton', 'trump', 'russia', 'china', 'america', 'election', 'england', 'obama']))"
   ]
  },
  {
   "cell_type": "code",
   "execution_count": 44,
   "metadata": {},
   "outputs": [
    {
     "name": "stdout",
     "output_type": "stream",
     "text": [
      "[('homophobia', 0.7546095848083496), ('Racism', 0.7497609853744507), ('institutionalized_racism', 0.7491472959518433), ('bigotry', 0.7266136407852173), ('racist', 0.7217566967010498), ('racial_discrimination', 0.713367223739624), ('racisim', 0.7058967351913452), ('racial_bigotry', 0.7057559490203857), ('racial_intolerance', 0.703029990196228), ('racial_prejudice', 0.7019556760787964)]\n",
      "[('racism_sexism', 0.7247349619865417), ('white_supremacy', 0.7185237407684326), ('bigotry', 0.6884170174598694), ('oppression', 0.6714835166931152), ('homophobia', 0.6711241006851196), ('prejudice', 0.6643327474594116), ('segregation', 0.6615561842918396), ('white_privilege', 0.6452728509902954), ('antisemitism', 0.6409633755683899), ('xenophobia', 0.6370413899421692)]\n"
     ]
    }
   ],
   "source": [
    "print(model.wv.most_similar(['racism']))\n",
    "print(w2v_model.wv.most_similar(['racism']))"
   ]
  },
  {
   "cell_type": "code",
   "execution_count": 45,
   "metadata": {},
   "outputs": [
    {
     "name": "stdout",
     "output_type": "stream",
     "text": [
      "[('cops', 0.7751113176345825), ('NYPD_cop', 0.6635390520095825), ('Cop', 0.6613665223121643), ('policeman', 0.6574563384056091), ('detective', 0.65337073802948), ('homicide_detective', 0.6199662685394287), ('narc', 0.6102039813995361), ('crooked_cop', 0.6002154350280762), ('lawman', 0.5969462394714355), ('undercover_cop', 0.5811244249343872)]\n",
      "[('police_officer', 0.8084465265274048), ('officer', 0.7361173033714294), ('police', 0.7227240204811096), ('nypd_cop', 0.7154238820075989), ('nypd_officer', 0.7015337944030762), ('policeman', 0.6915027499198914), ('cops', 0.6889235973358154), ('lapd_officer', 0.6842789649963379), ('duty_officer', 0.6736580729484558), ('duty_cop', 0.6585602760314941)]\n"
     ]
    }
   ],
   "source": [
    "print(model.wv.most_similar(['cop']))\n",
    "print(w2v_model.wv.most_similar(['cop']))"
   ]
  },
  {
   "cell_type": "code",
   "execution_count": 46,
   "metadata": {},
   "outputs": [
    {
     "name": "stdout",
     "output_type": "stream",
     "text": [
      "[('housekeeper', 0.7441761493682861), ('housemaid', 0.7086839079856873), ('maids', 0.6571398973464966), ('chambermaid', 0.6350985765457153), ('maid_servant', 0.5534963607788086), ('waitress', 0.5472760796546936), ('prostitute', 0.5466710329055786), ('maidservant', 0.5454322099685669), ('Filipino_maid', 0.5363936424255371), ('housecleaner', 0.5321150422096252)]\n",
      "[('photograph', 0.4353492856025696), ('concierge', 0.3761539161205292), ('hooker', 0.36809709668159485), ('prostitute', 0.34909528493881226), ('cleaner', 0.33550429344177246), ('neighbour', 0.334225594997406), ('lady_liberty', 0.3340739607810974), ('marry', 0.331928014755249), ('housekeeper', 0.33103322982788086), ('victoria_secret', 0.33086958527565)]\n"
     ]
    }
   ],
   "source": [
    "print(model.wv.most_similar(['maid']))\n",
    "print(w2v_model.wv.most_similar(['maid']))"
   ]
  },
  {
   "cell_type": "code",
   "execution_count": 47,
   "metadata": {
    "scrolled": true
   },
   "outputs": [
    {
     "name": "stdout",
     "output_type": "stream",
     "text": [
      "[('leadership', 0.5659864544868469), ('Leader', 0.5506060123443604), ('leaders', 0.5479303598403931), ('premier', 0.5060886740684509), ('president', 0.4555639624595642), ('leading', 0.4482613503932953), ('parliamentarian', 0.4425082504749298), ('standard_bearer', 0.4424498379230499), ('pioneer', 0.423666775226593), ('SIR_Menzies_Campbell', 0.4223523736000061)]\n",
      "[('leadership', 0.617702066898346), ('member', 0.538918137550354), ('politician', 0.537382960319519), ('faction', 0.5318265557289124), ('ally', 0.4984540641307831), ('candidate', 0.4977152645587921), ('delegation', 0.4917888045310974), ('dictator', 0.4841686189174652), ('lawmaker', 0.4818316698074341), ('president', 0.4794214069843292)]\n"
     ]
    }
   ],
   "source": [
    "print(model.wv.most_similar(['leader']))\n",
    "print(w2v_model.wv.most_similar(['leader']))"
   ]
  },
  {
   "cell_type": "code",
   "execution_count": 48,
   "metadata": {},
   "outputs": [
    {
     "name": "stdout",
     "output_type": "stream",
     "text": [
      "[('sons', 0.6452116966247559), ('father', 0.6188110113143921), ('fiancée', 0.6155856847763062), ('son', 0.610623836517334), ('fiancé', 0.6072103977203369)]\n",
      "[('boyfriend', 0.5529972910881042), ('father', 0.5219230055809021), ('estranged', 0.518871009349823), ('girlfriend', 0.5114659070968628), ('dad', 0.5078303813934326)]\n"
     ]
    }
   ],
   "source": [
    "print(model.wv.most_similar(positive=['wife', 'husband'], negative=['woman'], topn=5))\n",
    "print(w2v_model.wv.most_similar(positive=['wife', 'husband'], negative=['woman'], topn=5))"
   ]
  },
  {
   "cell_type": "code",
   "execution_count": 49,
   "metadata": {},
   "outputs": [
    {
     "name": "stdout",
     "output_type": "stream",
     "text": [
      "Process time: 2101.354907274246\n"
     ]
    }
   ],
   "source": [
    "print(\"Process time: %s\" % (time.time()-start_time))"
   ]
  }
 ],
 "metadata": {
  "kernelspec": {
   "display_name": "Python 3",
   "language": "python",
   "name": "python3"
  },
  "language_info": {
   "codemirror_mode": {
    "name": "ipython",
    "version": 3
   },
   "file_extension": ".py",
   "mimetype": "text/x-python",
   "name": "python",
   "nbconvert_exporter": "python",
   "pygments_lexer": "ipython3",
   "version": "3.7.5"
  }
 },
 "nbformat": 4,
 "nbformat_minor": 2
}
