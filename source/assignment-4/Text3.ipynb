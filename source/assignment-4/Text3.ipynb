{
 "cells": [
  {
   "cell_type": "code",
   "execution_count": 1,
   "metadata": {},
   "outputs": [],
   "source": [
    "from nltk.tokenize import sent_tokenize, word_tokenize\n",
    "import nltk\n",
    "import warnings \n",
    "import gensim\n",
    "from gensim.models import Word2Vec\n",
    "from nltk.tokenize import TweetTokenizer\n",
    "import time\n",
    "import re\n",
    "import os\n",
    "import csv\n",
    "import random\n",
    "from collections import Counter\n",
    "from nltk.tokenize import regexp_tokenize\n",
    "import pandas as pd\n",
    "import numpy as np\n",
    "import matplotlib.pyplot as plt\n",
    "from sklearn.manifold import TSNE\n",
    "import warnings \n",
    "\n",
    "warnings.filterwarnings(action = 'ignore') "
   ]
  },
  {
   "cell_type": "code",
   "execution_count": 2,
   "metadata": {},
   "outputs": [],
   "source": [
    "def load_data():\n",
    "    data_list = []\n",
    "    directory = \"./russian-troll-tweets-master/\"\n",
    "    outF = open(\"tweets_english.txt\", \"a\")\n",
    "    for root,dirs,files in os.walk(directory):\n",
    "        for file in files:\n",
    "            if file.endswith(\".csv\"):\n",
    "                data = pd.read_csv(directory+file)\n",
    "                for index, row in data.iterrows():\n",
    "                    if ((str(row['language'])).lower()=='english'):\n",
    "                        outF.write(str(row['content']))\n",
    "                        outF.write(\"\\n\")\n",
    "                        data_list.append([row['author'],row['content'],row['publish_date']])\n",
    "    df = pd.DataFrame.from_records(data_list, columns=['author', 'content', 'publish_date'])\n",
    "    df.to_csv (r'./df_tweets.csv', index = None, header=True)\n",
    "    return df"
   ]
  },
  {
   "cell_type": "code",
   "execution_count": 3,
   "metadata": {},
   "outputs": [],
   "source": [
    "#df = load_data() - only on first run"
   ]
  },
  {
   "cell_type": "code",
   "execution_count": 4,
   "metadata": {},
   "outputs": [],
   "source": [
    "def load_lines():\n",
    "    filepath = 'tweets.txt'\n",
    "    with open(filepath) as fp:\n",
    "        for cnt, line in enumerate(fp):\n",
    "            wordh = regexp_tokenize(line.lower(), r'([#|@]\\w+)')\n",
    "            if (len(wordh)>0):\n",
    "                for word in wordh:\n",
    "                    if '#' in word:\n",
    "                        word_list_h.append(word)\n",
    "                    else:\n",
    "                        word_list_m.append(word)\n",
    "            yield gensim.utils.simple_preprocess (line)      "
   ]
  },
  {
   "cell_type": "code",
   "execution_count": 5,
   "metadata": {},
   "outputs": [],
   "source": [
    "word_list_h = []\n",
    "word_list_m = []\n",
    "    \n",
    "def load_df():\n",
    "        path = \"./df_tweets.csv\"\n",
    "        df = pd.read_csv(path)\n",
    "        return df\n",
    "\n",
    "def get_stats(line):\n",
    "    wordh = regexp_tokenize(line.lower(), r'([#|@]\\w+)')\n",
    "    if (len(wordh)>0):\n",
    "        for word in wordh:\n",
    "            if '#' in word:\n",
    "                word_list_h.append(word)\n",
    "            else:\n",
    "                word_list_m.append(word)\n",
    "   \n",
    "    \n",
    "def clean_data(df):\n",
    "    for index, row in df.iterrows():\n",
    "        line = str(row['content']) \n",
    "        get_stats(line)\n",
    "        yield gensim.utils.simple_preprocess (line)"
   ]
  },
  {
   "cell_type": "code",
   "execution_count": 6,
   "metadata": {},
   "outputs": [],
   "source": [
    "start_time = time.time()"
   ]
  },
  {
   "cell_type": "code",
   "execution_count": 7,
   "metadata": {},
   "outputs": [
    {
     "name": "stdout",
     "output_type": "stream",
     "text": [
      "CPU times: user 4.09 s, sys: 297 ms, total: 4.39 s\n",
      "Wall time: 4.46 s\n"
     ]
    }
   ],
   "source": [
    "%%time\n",
    "df = load_df()"
   ]
  },
  {
   "cell_type": "code",
   "execution_count": 8,
   "metadata": {},
   "outputs": [
    {
     "name": "stdout",
     "output_type": "stream",
     "text": [
      "CPU times: user 4min 18s, sys: 1.69 s, total: 4min 20s\n",
      "Wall time: 4min 21s\n"
     ]
    }
   ],
   "source": [
    "%%time\n",
    "document = list(clean_data(df))"
   ]
  },
  {
   "cell_type": "code",
   "execution_count": 9,
   "metadata": {},
   "outputs": [],
   "source": [
    "#document = list(load_lines())\n",
    "#len(document)"
   ]
  },
  {
   "cell_type": "code",
   "execution_count": 10,
   "metadata": {},
   "outputs": [
    {
     "data": {
      "text/plain": [
       "2116867"
      ]
     },
     "execution_count": 10,
     "metadata": {},
     "output_type": "execute_result"
    }
   ],
   "source": [
    "len(document)"
   ]
  },
  {
   "cell_type": "code",
   "execution_count": 11,
   "metadata": {},
   "outputs": [
    {
     "data": {
      "text/plain": [
       "1457397"
      ]
     },
     "execution_count": 11,
     "metadata": {},
     "output_type": "execute_result"
    }
   ],
   "source": [
    "len(word_list_h)"
   ]
  },
  {
   "cell_type": "code",
   "execution_count": 12,
   "metadata": {},
   "outputs": [
    {
     "data": {
      "text/plain": [
       "(array([     0.,  20000.,  40000.,  60000.,  80000., 100000., 120000.,\n",
       "        140000.]), <a list of 8 Text xticklabel objects>)"
      ]
     },
     "execution_count": 12,
     "metadata": {},
     "output_type": "execute_result"
    },
    {
     "data": {
      "image/png": "[encoded data removed]",
      "text/plain": [
       "<Figure size 432x288 with 1 Axes>"
      ]
     },
     "metadata": {
      "needs_background": "light"
     },
     "output_type": "display_data"
    }
   ],
   "source": [
    "summary = Counter(word_list_h)\n",
    "dh = dict(summary.most_common(20))\n",
    "y_pos = np.arange(len(dh.keys()))\n",
    "x_pos = list(dh.values())\n",
    "fig, ax = plt.subplots()\n",
    "ax.barh(y_pos, x_pos, color='blue')\n",
    "ax.set_yticks(y_pos)\n",
    "ax.set_yticklabels(dh.keys())\n",
    "plt.xticks(rotation=60)"
   ]
  },
  {
   "cell_type": "code",
   "execution_count": 13,
   "metadata": {},
   "outputs": [
    {
     "data": {
      "text/plain": [
       "(array([    0.,  2000.,  4000.,  6000.,  8000., 10000., 12000., 14000.,\n",
       "        16000.]), <a list of 9 Text xticklabel objects>)"
      ]
     },
     "execution_count": 13,
     "metadata": {},
     "output_type": "execute_result"
    },
    {
     "data": {
      "image/png": "[encoded data removed]",
      "text/plain": [
       "<Figure size 432x288 with 1 Axes>"
      ]
     },
     "metadata": {
      "needs_background": "light"
     },
     "output_type": "display_data"
    }
   ],
   "source": [
    "summary_m = Counter(word_list_m)\n",
    "dm = dict(summary_m.most_common(20))\n",
    "y_pos = np.arange(len(dm.keys()))\n",
    "x_pos = list(dm.values())\n",
    "fig, ax = plt.subplots()\n",
    "ax.barh(y_pos, x_pos, color='red')\n",
    "ax.set_yticks(y_pos)\n",
    "ax.set_yticklabels(dm.keys())\n",
    "plt.xticks(rotation=60)"
   ]
  },
  {
   "cell_type": "code",
   "execution_count": 52,
   "metadata": {},
   "outputs": [
    {
     "name": "stdout",
     "output_type": "stream",
     "text": [
      "(2116867, 6)\n"
     ]
    },
    {
     "data": {
      "text/html": [
       "<div>\n",
       "<style scoped>\n",
       "    .dataframe tbody tr th:only-of-type {\n",
       "        vertical-align: middle;\n",
       "    }\n",
       "\n",
       "    .dataframe tbody tr th {\n",
       "        vertical-align: top;\n",
       "    }\n",
       "\n",
       "    .dataframe thead th {\n",
       "        text-align: right;\n",
       "    }\n",
       "</style>\n",
       "<table border=\"1\" class=\"dataframe\">\n",
       "  <thead>\n",
       "    <tr style=\"text-align: right;\">\n",
       "      <th></th>\n",
       "      <th>author</th>\n",
       "      <th>content</th>\n",
       "      <th>publish_date</th>\n",
       "      <th>Year</th>\n",
       "      <th>month</th>\n",
       "      <th>week</th>\n",
       "    </tr>\n",
       "  </thead>\n",
       "  <tbody>\n",
       "    <tr>\n",
       "      <th>0</th>\n",
       "      <td>DAILYSANFRAN</td>\n",
       "      <td>Police: Airline pilot found passed out in cock...</td>\n",
       "      <td>2017-01-02 14:39:00</td>\n",
       "      <td>2017</td>\n",
       "      <td>1</td>\n",
       "      <td>1</td>\n",
       "    </tr>\n",
       "    <tr>\n",
       "      <th>1</th>\n",
       "      <td>DAILYSANFRAN</td>\n",
       "      <td>Dashcam video shows man launching himself onto...</td>\n",
       "      <td>2017-01-02 15:39:00</td>\n",
       "      <td>2017</td>\n",
       "      <td>1</td>\n",
       "      <td>1</td>\n",
       "    </tr>\n",
       "    <tr>\n",
       "      <th>2</th>\n",
       "      <td>DAILYSANFRAN</td>\n",
       "      <td>Man Arrested For Setting Fire To South SF Medi...</td>\n",
       "      <td>2017-01-02 16:19:00</td>\n",
       "      <td>2017</td>\n",
       "      <td>1</td>\n",
       "      <td>1</td>\n",
       "    </tr>\n",
       "    <tr>\n",
       "      <th>3</th>\n",
       "      <td>DAILYSANFRAN</td>\n",
       "      <td>Practical tips to achieving your New Year's re...</td>\n",
       "      <td>2017-01-02 16:29:00</td>\n",
       "      <td>2017</td>\n",
       "      <td>1</td>\n",
       "      <td>1</td>\n",
       "    </tr>\n",
       "    <tr>\n",
       "      <th>4</th>\n",
       "      <td>DAILYSANFRAN</td>\n",
       "      <td>Couple disappears during trip to Big Sur https...</td>\n",
       "      <td>2017-01-02 16:39:00</td>\n",
       "      <td>2017</td>\n",
       "      <td>1</td>\n",
       "      <td>1</td>\n",
       "    </tr>\n",
       "  </tbody>\n",
       "</table>\n",
       "</div>"
      ],
      "text/plain": [
       "         author                                            content  \\\n",
       "0  DAILYSANFRAN  Police: Airline pilot found passed out in cock...   \n",
       "1  DAILYSANFRAN  Dashcam video shows man launching himself onto...   \n",
       "2  DAILYSANFRAN  Man Arrested For Setting Fire To South SF Medi...   \n",
       "3  DAILYSANFRAN  Practical tips to achieving your New Year's re...   \n",
       "4  DAILYSANFRAN  Couple disappears during trip to Big Sur https...   \n",
       "\n",
       "         publish_date  Year  month  week  \n",
       "0 2017-01-02 14:39:00  2017      1     1  \n",
       "1 2017-01-02 15:39:00  2017      1     1  \n",
       "2 2017-01-02 16:19:00  2017      1     1  \n",
       "3 2017-01-02 16:29:00  2017      1     1  \n",
       "4 2017-01-02 16:39:00  2017      1     1  "
      ]
     },
     "execution_count": 52,
     "metadata": {},
     "output_type": "execute_result"
    }
   ],
   "source": [
    "print (df.shape)\n",
    "df.head()"
   ]
  },
  {
   "cell_type": "code",
   "execution_count": 15,
   "metadata": {},
   "outputs": [],
   "source": [
    "df['publish_date'] = pd.to_datetime(df['publish_date'], format='%m/%d/%Y %H:%M')\n",
    "df['Year']  = df['publish_date'].dt.year\n",
    "df['month'] = df['publish_date'].dt.month\n",
    "df['week']  = df['publish_date'].dt.week"
   ]
  },
  {
   "cell_type": "code",
   "execution_count": 16,
   "metadata": {},
   "outputs": [
    {
     "data": {
      "text/html": [
       "<div>\n",
       "<style scoped>\n",
       "    .dataframe tbody tr th:only-of-type {\n",
       "        vertical-align: middle;\n",
       "    }\n",
       "\n",
       "    .dataframe tbody tr th {\n",
       "        vertical-align: top;\n",
       "    }\n",
       "\n",
       "    .dataframe thead th {\n",
       "        text-align: right;\n",
       "    }\n",
       "</style>\n",
       "<table border=\"1\" class=\"dataframe\">\n",
       "  <thead>\n",
       "    <tr style=\"text-align: right;\">\n",
       "      <th></th>\n",
       "      <th>author</th>\n",
       "      <th>content</th>\n",
       "      <th>publish_date</th>\n",
       "      <th>Year</th>\n",
       "      <th>month</th>\n",
       "      <th>week</th>\n",
       "    </tr>\n",
       "  </thead>\n",
       "  <tbody>\n",
       "    <tr>\n",
       "      <th>0</th>\n",
       "      <td>DAILYSANFRAN</td>\n",
       "      <td>Police: Airline pilot found passed out in cock...</td>\n",
       "      <td>2017-01-02 14:39:00</td>\n",
       "      <td>2017</td>\n",
       "      <td>1</td>\n",
       "      <td>1</td>\n",
       "    </tr>\n",
       "    <tr>\n",
       "      <th>1</th>\n",
       "      <td>DAILYSANFRAN</td>\n",
       "      <td>Dashcam video shows man launching himself onto...</td>\n",
       "      <td>2017-01-02 15:39:00</td>\n",
       "      <td>2017</td>\n",
       "      <td>1</td>\n",
       "      <td>1</td>\n",
       "    </tr>\n",
       "    <tr>\n",
       "      <th>2</th>\n",
       "      <td>DAILYSANFRAN</td>\n",
       "      <td>Man Arrested For Setting Fire To South SF Medi...</td>\n",
       "      <td>2017-01-02 16:19:00</td>\n",
       "      <td>2017</td>\n",
       "      <td>1</td>\n",
       "      <td>1</td>\n",
       "    </tr>\n",
       "    <tr>\n",
       "      <th>3</th>\n",
       "      <td>DAILYSANFRAN</td>\n",
       "      <td>Practical tips to achieving your New Year's re...</td>\n",
       "      <td>2017-01-02 16:29:00</td>\n",
       "      <td>2017</td>\n",
       "      <td>1</td>\n",
       "      <td>1</td>\n",
       "    </tr>\n",
       "    <tr>\n",
       "      <th>4</th>\n",
       "      <td>DAILYSANFRAN</td>\n",
       "      <td>Couple disappears during trip to Big Sur https...</td>\n",
       "      <td>2017-01-02 16:39:00</td>\n",
       "      <td>2017</td>\n",
       "      <td>1</td>\n",
       "      <td>1</td>\n",
       "    </tr>\n",
       "  </tbody>\n",
       "</table>\n",
       "</div>"
      ],
      "text/plain": [
       "         author                                            content  \\\n",
       "0  DAILYSANFRAN  Police: Airline pilot found passed out in cock...   \n",
       "1  DAILYSANFRAN  Dashcam video shows man launching himself onto...   \n",
       "2  DAILYSANFRAN  Man Arrested For Setting Fire To South SF Medi...   \n",
       "3  DAILYSANFRAN  Practical tips to achieving your New Year's re...   \n",
       "4  DAILYSANFRAN  Couple disappears during trip to Big Sur https...   \n",
       "\n",
       "         publish_date  Year  month  week  \n",
       "0 2017-01-02 14:39:00  2017      1     1  \n",
       "1 2017-01-02 15:39:00  2017      1     1  \n",
       "2 2017-01-02 16:19:00  2017      1     1  \n",
       "3 2017-01-02 16:29:00  2017      1     1  \n",
       "4 2017-01-02 16:39:00  2017      1     1  "
      ]
     },
     "execution_count": 16,
     "metadata": {},
     "output_type": "execute_result"
    }
   ],
   "source": [
    "df.head()"
   ]
  },
  {
   "cell_type": "code",
   "execution_count": 17,
   "metadata": {},
   "outputs": [
    {
     "data": {
      "image/png": "[encoded data removed]",
      "text/plain": [
       "<Figure size 432x288 with 1 Axes>"
      ]
     },
     "metadata": {
      "needs_background": "light"
     },
     "output_type": "display_data"
    }
   ],
   "source": [
    "df_by_year = df.groupby('Year').agg('size').reset_index()\n",
    "df_by_year.columns = ['Year','tweets']\n",
    "plt.bar(df_by_year.Year, df_by_year.tweets)\n",
    "plt.show()"
   ]
  },
  {
   "cell_type": "code",
   "execution_count": 18,
   "metadata": {},
   "outputs": [
    {
     "name": "stdout",
     "output_type": "stream",
     "text": [
      "(878878, 6)\n"
     ]
    },
    {
     "data": {
      "text/html": [
       "<div>\n",
       "<style scoped>\n",
       "    .dataframe tbody tr th:only-of-type {\n",
       "        vertical-align: middle;\n",
       "    }\n",
       "\n",
       "    .dataframe tbody tr th {\n",
       "        vertical-align: top;\n",
       "    }\n",
       "\n",
       "    .dataframe thead th {\n",
       "        text-align: right;\n",
       "    }\n",
       "</style>\n",
       "<table border=\"1\" class=\"dataframe\">\n",
       "  <thead>\n",
       "    <tr style=\"text-align: right;\">\n",
       "      <th></th>\n",
       "      <th>author</th>\n",
       "      <th>content</th>\n",
       "      <th>publish_date</th>\n",
       "      <th>Year</th>\n",
       "      <th>month</th>\n",
       "      <th>week</th>\n",
       "    </tr>\n",
       "  </thead>\n",
       "  <tbody>\n",
       "    <tr>\n",
       "      <th>31</th>\n",
       "      <td>DAILYSANFRAN</td>\n",
       "      <td>Homeowner chases suspected prowler off his pro...</td>\n",
       "      <td>2016-01-20 00:11:00</td>\n",
       "      <td>2016</td>\n",
       "      <td>1</td>\n",
       "      <td>3</td>\n",
       "    </tr>\n",
       "    <tr>\n",
       "      <th>32</th>\n",
       "      <td>DAILYSANFRAN</td>\n",
       "      <td>CHP: 480 reported collisions from midnight unt...</td>\n",
       "      <td>2016-01-20 00:20:00</td>\n",
       "      <td>2016</td>\n",
       "      <td>1</td>\n",
       "      <td>3</td>\n",
       "    </tr>\n",
       "    <tr>\n",
       "      <th>33</th>\n",
       "      <td>DAILYSANFRAN</td>\n",
       "      <td>Coroner identifies 19-year-old woman killed in...</td>\n",
       "      <td>2016-01-20 00:27:00</td>\n",
       "      <td>2016</td>\n",
       "      <td>1</td>\n",
       "      <td>3</td>\n",
       "    </tr>\n",
       "    <tr>\n",
       "      <th>34</th>\n",
       "      <td>DAILYSANFRAN</td>\n",
       "      <td>Report: Strong possibility defensive coordinat...</td>\n",
       "      <td>2016-01-20 00:29:00</td>\n",
       "      <td>2016</td>\n",
       "      <td>1</td>\n",
       "      <td>3</td>\n",
       "    </tr>\n",
       "    <tr>\n",
       "      <th>35</th>\n",
       "      <td>DAILYSANFRAN</td>\n",
       "      <td>Taliban kill 20 in attack at northwest Pakista...</td>\n",
       "      <td>2016-01-20 12:14:00</td>\n",
       "      <td>2016</td>\n",
       "      <td>1</td>\n",
       "      <td>3</td>\n",
       "    </tr>\n",
       "  </tbody>\n",
       "</table>\n",
       "</div>"
      ],
      "text/plain": [
       "          author                                            content  \\\n",
       "31  DAILYSANFRAN  Homeowner chases suspected prowler off his pro...   \n",
       "32  DAILYSANFRAN  CHP: 480 reported collisions from midnight unt...   \n",
       "33  DAILYSANFRAN  Coroner identifies 19-year-old woman killed in...   \n",
       "34  DAILYSANFRAN  Report: Strong possibility defensive coordinat...   \n",
       "35  DAILYSANFRAN  Taliban kill 20 in attack at northwest Pakista...   \n",
       "\n",
       "          publish_date  Year  month  week  \n",
       "31 2016-01-20 00:11:00  2016      1     3  \n",
       "32 2016-01-20 00:20:00  2016      1     3  \n",
       "33 2016-01-20 00:27:00  2016      1     3  \n",
       "34 2016-01-20 00:29:00  2016      1     3  \n",
       "35 2016-01-20 12:14:00  2016      1     3  "
      ]
     },
     "execution_count": 18,
     "metadata": {},
     "output_type": "execute_result"
    }
   ],
   "source": [
    "df_2016 = df[df['publish_date'].dt.year == 2016]\n",
    "print(df_2016.shape)\n",
    "df_2016.head()"
   ]
  },
  {
   "cell_type": "code",
   "execution_count": 19,
   "metadata": {},
   "outputs": [
    {
     "data": {
      "image/png": "[encoded data removed]",
      "text/plain": [
       "<Figure size 1008x432 with 2 Axes>"
      ]
     },
     "metadata": {
      "needs_background": "light"
     },
     "output_type": "display_data"
    }
   ],
   "source": [
    "df_2016_month_sum = df_2016.groupby('month').agg('size').reset_index()\n",
    "df_2016_month_sum.columns = ['month','tweets']\n",
    "df_2016_week_sum = df_2016.groupby('week').agg('size').reset_index()\n",
    "df_2016_week_sum.columns = ['week','tweets']\n",
    "fig, (ax1, ax2) = plt.subplots(1, 2,figsize=(14,6))\n",
    "ax1.plot(df_2016_month_sum.month, df_2016_month_sum.tweets, c = 'b')\n",
    "ax2.plot(df_2016_week_sum.week, df_2016_week_sum.tweets, c = 'r')\n",
    "ax1.set_xticks(df_2016_month_sum.month)\n",
    "plt.show()"
   ]
  },
  {
   "cell_type": "code",
   "execution_count": 20,
   "metadata": {},
   "outputs": [
    {
     "name": "stdout",
     "output_type": "stream",
     "text": [
      "(190634, 7)\n"
     ]
    },
    {
     "data": {
      "text/html": [
       "<div>\n",
       "<style scoped>\n",
       "    .dataframe tbody tr th:only-of-type {\n",
       "        vertical-align: middle;\n",
       "    }\n",
       "\n",
       "    .dataframe tbody tr th {\n",
       "        vertical-align: top;\n",
       "    }\n",
       "\n",
       "    .dataframe thead th {\n",
       "        text-align: right;\n",
       "    }\n",
       "</style>\n",
       "<table border=\"1\" class=\"dataframe\">\n",
       "  <thead>\n",
       "    <tr style=\"text-align: right;\">\n",
       "      <th></th>\n",
       "      <th>author</th>\n",
       "      <th>content</th>\n",
       "      <th>publish_date</th>\n",
       "      <th>Year</th>\n",
       "      <th>month</th>\n",
       "      <th>week</th>\n",
       "      <th>day</th>\n",
       "    </tr>\n",
       "  </thead>\n",
       "  <tbody>\n",
       "    <tr>\n",
       "      <th>4165</th>\n",
       "      <td>DAILYSANFRAN</td>\n",
       "      <td>Zillow values Santa's North Pole house at over...</td>\n",
       "      <td>2016-12-01 10:20:00</td>\n",
       "      <td>2016</td>\n",
       "      <td>12</td>\n",
       "      <td>48</td>\n",
       "      <td>1</td>\n",
       "    </tr>\n",
       "    <tr>\n",
       "      <th>4166</th>\n",
       "      <td>DAILYSANFRAN</td>\n",
       "      <td>Jury orders Wyndham Worldwide to pay $20 milli...</td>\n",
       "      <td>2016-12-01 11:20:00</td>\n",
       "      <td>2016</td>\n",
       "      <td>12</td>\n",
       "      <td>48</td>\n",
       "      <td>1</td>\n",
       "    </tr>\n",
       "    <tr>\n",
       "      <th>4167</th>\n",
       "      <td>DAILYSANFRAN</td>\n",
       "      <td>Santa Clara escapee Rogelio Chavez captured in...</td>\n",
       "      <td>2016-12-01 12:20:00</td>\n",
       "      <td>2016</td>\n",
       "      <td>12</td>\n",
       "      <td>48</td>\n",
       "      <td>1</td>\n",
       "    </tr>\n",
       "    <tr>\n",
       "      <th>4168</th>\n",
       "      <td>DAILYSANFRAN</td>\n",
       "      <td>Tacoma police officer shot multiple times dies...</td>\n",
       "      <td>2016-12-01 13:02:00</td>\n",
       "      <td>2016</td>\n",
       "      <td>12</td>\n",
       "      <td>48</td>\n",
       "      <td>1</td>\n",
       "    </tr>\n",
       "    <tr>\n",
       "      <th>4169</th>\n",
       "      <td>DAILYSANFRAN</td>\n",
       "      <td>Watch this adorable dog experience her first s...</td>\n",
       "      <td>2016-12-01 13:20:00</td>\n",
       "      <td>2016</td>\n",
       "      <td>12</td>\n",
       "      <td>48</td>\n",
       "      <td>1</td>\n",
       "    </tr>\n",
       "  </tbody>\n",
       "</table>\n",
       "</div>"
      ],
      "text/plain": [
       "            author                                            content  \\\n",
       "4165  DAILYSANFRAN  Zillow values Santa's North Pole house at over...   \n",
       "4166  DAILYSANFRAN  Jury orders Wyndham Worldwide to pay $20 milli...   \n",
       "4167  DAILYSANFRAN  Santa Clara escapee Rogelio Chavez captured in...   \n",
       "4168  DAILYSANFRAN  Tacoma police officer shot multiple times dies...   \n",
       "4169  DAILYSANFRAN  Watch this adorable dog experience her first s...   \n",
       "\n",
       "            publish_date  Year  month  week  day  \n",
       "4165 2016-12-01 10:20:00  2016     12    48    1  \n",
       "4166 2016-12-01 11:20:00  2016     12    48    1  \n",
       "4167 2016-12-01 12:20:00  2016     12    48    1  \n",
       "4168 2016-12-01 13:02:00  2016     12    48    1  \n",
       "4169 2016-12-01 13:20:00  2016     12    48    1  "
      ]
     },
     "execution_count": 20,
     "metadata": {},
     "output_type": "execute_result"
    }
   ],
   "source": [
    "df_2016_nov = df[df['month']==12]\n",
    "df_2016_nov['day']  = df['publish_date'].dt.day\n",
    "print(df_2016_nov.shape)\n",
    "df_2016_nov.head()"
   ]
  },
  {
   "cell_type": "code",
   "execution_count": 21,
   "metadata": {
    "scrolled": true
   },
   "outputs": [
    {
     "data": {
      "image/png": "[encoded data removed]",
      "text/plain": [
       "<Figure size 1008x360 with 1 Axes>"
      ]
     },
     "metadata": {
      "needs_background": "light"
     },
     "output_type": "display_data"
    }
   ],
   "source": [
    "df_2016_nov_day = df_2016_nov.groupby('day').agg('size').reset_index()\n",
    "df_2016_nov_day.columns = ['day','tweets']\n",
    "plt.figure(figsize=(14,5))\n",
    "plt.bar(df_2016_nov_day.day, df_2016_nov_day.tweets)\n",
    "plt.xticks(df_2016_nov_day.day)\n",
    "plt.show()"
   ]
  },
  {
   "cell_type": "code",
   "execution_count": 22,
   "metadata": {},
   "outputs": [],
   "source": [
    "tweets = []\n",
    "mention = []\n",
    "trump = dict()\n",
    "all_t = dict()\n",
    "for index, row in df_2016_nov.iterrows():\n",
    "    line = str(row['content'])\n",
    "    day = row['day']\n",
    "    wordh = regexp_tokenize(line.lower(), r'([#|@]\\w+)')\n",
    "    if (len(wordh)>0):\n",
    "        for word in wordh:\n",
    "            if '#' in word:\n",
    "                tweets.append(word)\n",
    "            else:\n",
    "                mention.append(word)\n",
    "            if (day in all_t):\n",
    "                all_t[day] += 1\n",
    "            else:\n",
    "                all_t[day] = 1\n",
    "            if \"trump\" in word:\n",
    "                if (day in trump):\n",
    "                    trump[day] +=1\n",
    "                else:\n",
    "                    trump[day] = 1\n",
    "                "
   ]
  },
  {
   "cell_type": "code",
   "execution_count": 23,
   "metadata": {},
   "outputs": [
    {
     "data": {
      "text/plain": [
       "137482"
      ]
     },
     "execution_count": 23,
     "metadata": {},
     "output_type": "execute_result"
    }
   ],
   "source": [
    "len(tweets)"
   ]
  },
  {
   "cell_type": "code",
   "execution_count": 24,
   "metadata": {},
   "outputs": [
    {
     "data": {
      "text/plain": [
       "63510"
      ]
     },
     "execution_count": 24,
     "metadata": {},
     "output_type": "execute_result"
    }
   ],
   "source": [
    "len(mention)"
   ]
  },
  {
   "cell_type": "code",
   "execution_count": 25,
   "metadata": {},
   "outputs": [
    {
     "data": {
      "text/plain": [
       "(array([    0.,  2000.,  4000.,  6000.,  8000., 10000., 12000.]),\n",
       " <a list of 7 Text xticklabel objects>)"
      ]
     },
     "execution_count": 25,
     "metadata": {},
     "output_type": "execute_result"
    },
    {
     "data": {
      "image/png": "[encoded data removed]",
      "text/plain": [
       "<Figure size 432x288 with 1 Axes>"
      ]
     },
     "metadata": {
      "needs_background": "light"
     },
     "output_type": "display_data"
    }
   ],
   "source": [
    "tweets_sum = Counter(tweets)\n",
    "dh = dict(tweets_sum.most_common(20))\n",
    "y_pos = np.arange(len(dh.keys()))\n",
    "x_pos = list(dh.values())\n",
    "fig, ax = plt.subplots()\n",
    "ax.barh(y_pos, x_pos, color='green')\n",
    "ax.set_yticks(y_pos)\n",
    "ax.set_yticklabels(dh.keys())\n",
    "plt.xticks(rotation=60)"
   ]
  },
  {
   "cell_type": "code",
   "execution_count": 26,
   "metadata": {},
   "outputs": [
    {
     "data": {
      "text/plain": [
       "(array([   0.,  250.,  500.,  750., 1000., 1250., 1500., 1750., 2000.,\n",
       "        2250.]), <a list of 10 Text xticklabel objects>)"
      ]
     },
     "execution_count": 26,
     "metadata": {},
     "output_type": "execute_result"
    },
    {
     "data": {
      "image/png": "[encoded data removed]",
      "text/plain": [
       "<Figure size 432x288 with 1 Axes>"
      ]
     },
     "metadata": {
      "needs_background": "light"
     },
     "output_type": "display_data"
    }
   ],
   "source": [
    "tweets_sum = Counter(mention)\n",
    "dh = dict(tweets_sum.most_common(20))\n",
    "y_pos = np.arange(len(dh.keys()))\n",
    "x_pos = list(dh.values())\n",
    "fig, ax = plt.subplots()\n",
    "ax.barh(y_pos, x_pos, color='red')\n",
    "ax.set_yticks(y_pos)\n",
    "ax.set_yticklabels(dh.keys())\n",
    "plt.xticks(rotation=60)"
   ]
  },
  {
   "cell_type": "code",
   "execution_count": 27,
   "metadata": {},
   "outputs": [
    {
     "data": {
      "text/plain": [
       "(array([-5.,  0.,  5., 10., 15., 20., 25., 30., 35.]),\n",
       " <a list of 9 Text xticklabel objects>)"
      ]
     },
     "execution_count": 27,
     "metadata": {},
     "output_type": "execute_result"
    },
    {
     "data": {
      "image/png": "[encoded data removed]",
      "text/plain": [
       "<Figure size 1008x432 with 2 Axes>"
      ]
     },
     "metadata": {
      "needs_background": "light"
     },
     "output_type": "display_data"
    }
   ],
   "source": [
    "fig, (ax1, ax2) = plt.subplots(1, 2,figsize=(14,6))\n",
    "ax1.bar(trump.keys(), trump.values(), color='blue')\n",
    "ax2.bar(all_t.keys(), all_t.values(), color='red')\n",
    "plt.xticks(rotation=60)"
   ]
  },
  {
   "cell_type": "code",
   "execution_count": 28,
   "metadata": {},
   "outputs": [
    {
     "name": "stdout",
     "output_type": "stream",
     "text": [
      "CPU times: user 8min 2s, sys: 4.41 s, total: 8min 6s\n",
      "Wall time: 2min 15s\n"
     ]
    }
   ],
   "source": [
    "%%time\n",
    "model = gensim.models.Word2Vec (document, size=100, window=10, min_count=2, workers=10)\n",
    "model.save(\"word2vec.model\")"
   ]
  },
  {
   "cell_type": "code",
   "execution_count": 29,
   "metadata": {},
   "outputs": [
    {
     "name": "stdout",
     "output_type": "stream",
     "text": [
      "CPU times: user 14min 35s, sys: 5.63 s, total: 14min 41s\n",
      "Wall time: 3min 30s\n"
     ]
    },
    {
     "data": {
      "text/plain": [
       "(237760159, 309096170)"
      ]
     },
     "execution_count": 29,
     "metadata": {},
     "output_type": "execute_result"
    }
   ],
   "source": [
    "%%time\n",
    "model = Word2Vec.load(\"word2vec.model\")\n",
    "model.train(document,total_examples=len(document),epochs=10)"
   ]
  },
  {
   "cell_type": "code",
   "execution_count": 30,
   "metadata": {},
   "outputs": [
    {
     "name": "stdout",
     "output_type": "stream",
     "text": [
      "Word2Vec(vocab=415335, size=100, alpha=0.025)\n"
     ]
    }
   ],
   "source": [
    "print(model)"
   ]
  },
  {
   "cell_type": "code",
   "execution_count": 31,
   "metadata": {},
   "outputs": [],
   "source": [
    "word1 = \"facebook\"\n",
    "word2 = \"physics\"\n",
    "vocab1 = model.wv.most_similar (positive=[word1],topn=5)\n",
    "vocab2 = model.wv.most_similar (positive=[word2],topn=5)"
   ]
  },
  {
   "cell_type": "code",
   "execution_count": 32,
   "metadata": {},
   "outputs": [],
   "source": [
    "v1 = []\n",
    "for item in vocab1:\n",
    "    v1.append(item[0])\n",
    "X1 = model[v1]\n",
    "\n",
    "v2 = []\n",
    "for item in vocab2:\n",
    "    v2.append(item[0])\n",
    "X2 = model[v2]"
   ]
  },
  {
   "cell_type": "code",
   "execution_count": 33,
   "metadata": {},
   "outputs": [],
   "source": [
    "tsne = TSNE(n_components=2)\n",
    "X1_tsne = tsne.fit_transform(X1)\n",
    "X2_tsne = tsne.fit_transform(X2)"
   ]
  },
  {
   "cell_type": "code",
   "execution_count": 34,
   "metadata": {},
   "outputs": [],
   "source": [
    "df1 = pd.DataFrame(X1_tsne, index=vocab1, columns=['x', 'y'])\n",
    "df2 = pd.DataFrame(X2_tsne, index=vocab2, columns=['x', 'y'])"
   ]
  },
  {
   "cell_type": "code",
   "execution_count": 35,
   "metadata": {},
   "outputs": [
    {
     "data": {
      "image/png": "[encoded data removed]",
      "text/plain": [
       "<Figure size 432x288 with 1 Axes>"
      ]
     },
     "metadata": {
      "needs_background": "light"
     },
     "output_type": "display_data"
    }
   ],
   "source": [
    "fig = plt.figure()\n",
    "ax = fig.add_subplot(1, 1, 1)\n",
    "\n",
    "ax.scatter(df1['x'], df1['y'], color='red')\n",
    "ax.scatter(df2['x'], df2['y'], color='blue')\n",
    "\n",
    "for word, pos in df1.iterrows():\n",
    "    ax.annotate(word[0], pos)\n",
    "    \n",
    "for word, pos in df2.iterrows():\n",
    "    ax.annotate(word[0], pos)\n"
   ]
  },
  {
   "cell_type": "code",
   "execution_count": 36,
   "metadata": {},
   "outputs": [
    {
     "data": {
      "text/plain": [
       "'man'"
      ]
     },
     "execution_count": 36,
     "metadata": {},
     "output_type": "execute_result"
    }
   ],
   "source": [
    "model.wv.doesnt_match([\"england\",\"spain\",\"russia\",\"man\",\"canada\",\"mexico\"])"
   ]
  },
  {
   "cell_type": "code",
   "execution_count": 37,
   "metadata": {},
   "outputs": [
    {
     "data": {
      "text/plain": [
       "[('nurse', 0.7051630020141602),\n",
       " ('patient', 0.652767539024353),\n",
       " ('surgeon', 0.6510423421859741),\n",
       " ('patients', 0.6112216114997864),\n",
       " ('physician', 0.5900599360466003)]"
      ]
     },
     "execution_count": 37,
     "metadata": {},
     "output_type": "execute_result"
    }
   ],
   "source": [
    "model.wv.most_similar(positive=[\"doctor\"], topn=5)"
   ]
  },
  {
   "cell_type": "code",
   "execution_count": 38,
   "metadata": {},
   "outputs": [
    {
     "data": {
      "text/plain": [
       "[('patient', 0.7205549478530884),\n",
       " ('doctor', 0.7051630616188049),\n",
       " ('woman', 0.6297337412834167),\n",
       " ('teenager', 0.6164090633392334),\n",
       " ('newborn', 0.6143915057182312)]"
      ]
     },
     "execution_count": 38,
     "metadata": {},
     "output_type": "execute_result"
    }
   ],
   "source": [
    "model.wv.most_similar(positive=[\"nurse\"], topn=5)"
   ]
  },
  {
   "cell_type": "code",
   "execution_count": 39,
   "metadata": {},
   "outputs": [
    {
     "data": {
      "text/plain": [
       "[('president', 0.6571319103240967),\n",
       " ('leadership', 0.6122977137565613),\n",
       " ('leaders', 0.5968878269195557),\n",
       " ('politician', 0.585737943649292),\n",
       " ('journalist', 0.5491124987602234)]"
      ]
     },
     "execution_count": 39,
     "metadata": {},
     "output_type": "execute_result"
    }
   ],
   "source": [
    "model.wv.most_similar(positive=[\"leader\"], topn=5)"
   ]
  },
  {
   "cell_type": "code",
   "execution_count": 40,
   "metadata": {},
   "outputs": [
    {
     "data": {
      "text/plain": [
       "[('queen', 0.4915308356285095)]"
      ]
     },
     "execution_count": 40,
     "metadata": {},
     "output_type": "execute_result"
    }
   ],
   "source": [
    "model.wv.most_similar(positive=['woman', 'king'], negative=['man'], topn=1)"
   ]
  },
  {
   "cell_type": "code",
   "execution_count": 41,
   "metadata": {},
   "outputs": [
    {
     "data": {
      "text/plain": [
       "[('patient', 0.6464961767196655)]"
      ]
     },
     "execution_count": 41,
     "metadata": {},
     "output_type": "execute_result"
    }
   ],
   "source": [
    "model.wv.most_similar(positive=['woman','nurse'], negative=['man'], topn=1)"
   ]
  },
  {
   "cell_type": "code",
   "execution_count": 42,
   "metadata": {},
   "outputs": [
    {
     "data": {
      "text/plain": [
       "[('wife', 0.7983077764511108)]"
      ]
     },
     "execution_count": 42,
     "metadata": {},
     "output_type": "execute_result"
    }
   ],
   "source": [
    "model.wv.most_similar(positive=['woman','husband'], negative=['man'], topn=1)"
   ]
  },
  {
   "cell_type": "code",
   "execution_count": 43,
   "metadata": {},
   "outputs": [
    {
     "data": {
      "text/plain": [
       "[('girlfriend', 0.8000210523605347)]"
      ]
     },
     "execution_count": 43,
     "metadata": {},
     "output_type": "execute_result"
    }
   ],
   "source": [
    "model.wv.most_similar(positive=['woman','boyfriend'], negative=['man'], topn=1)"
   ]
  },
  {
   "cell_type": "code",
   "execution_count": 44,
   "metadata": {},
   "outputs": [
    {
     "data": {
      "text/plain": [
       "[('msm', 0.7159798741340637),\n",
       " ('cnn', 0.6760609149932861),\n",
       " ('fakenewsmedia', 0.6335248351097107),\n",
       " ('fake', 0.6257920861244202),\n",
       " ('propaganda', 0.6207538843154907),\n",
       " ('fakenewscnn', 0.5956898331642151),\n",
       " ('lies', 0.5925977230072021),\n",
       " ('mainstream', 0.5850728750228882),\n",
       " ('biased', 0.5848208665847778),\n",
       " ('wapo', 0.55850750207901)]"
      ]
     },
     "execution_count": 44,
     "metadata": {},
     "output_type": "execute_result"
    }
   ],
   "source": [
    "model.wv.most_similar(positive=['fakenews'])"
   ]
  },
  {
   "cell_type": "code",
   "execution_count": 45,
   "metadata": {},
   "outputs": [
    {
     "data": {
      "text/plain": [
       "array([-0.994464  ,  0.8444909 ,  6.961237  ,  0.945807  , -1.1746467 ,\n",
       "       -1.4506035 ,  1.3200713 ,  0.9080915 , -0.5082928 , -3.5324092 ,\n",
       "        2.9237068 , -2.4822588 , -4.0000386 ,  7.1302185 ,  3.4911509 ,\n",
       "       -6.519942  , -1.2292966 ,  4.712882  ,  0.12546916, -2.5139863 ],\n",
       "      dtype=float32)"
      ]
     },
     "execution_count": 45,
     "metadata": {},
     "output_type": "execute_result"
    }
   ],
   "source": [
    "model.wv['trump'][:20]"
   ]
  },
  {
   "cell_type": "code",
   "execution_count": 51,
   "metadata": {},
   "outputs": [
    {
     "name": "stdout",
     "output_type": "stream",
     "text": [
      "[('hrc', 0.6504697799682617)]\n"
     ]
    }
   ],
   "source": [
    "print(model.wv.most_similar(positive=['trump', 'hillary'], negative=['man'], topn=1))"
   ]
  },
  {
   "cell_type": "code",
   "execution_count": null,
   "metadata": {},
   "outputs": [],
   "source": []
  }
 ],
 "metadata": {
  "kernelspec": {
   "display_name": "Python 3",
   "language": "python",
   "name": "python3"
  },
  "language_info": {
   "codemirror_mode": {
    "name": "ipython",
    "version": 3
   },
   "file_extension": ".py",
   "mimetype": "text/x-python",
   "name": "python",
   "nbconvert_exporter": "python",
   "pygments_lexer": "ipython3",
   "version": "3.7.3"
  }
 },
 "nbformat": 4,
 "nbformat_minor": 2
}
